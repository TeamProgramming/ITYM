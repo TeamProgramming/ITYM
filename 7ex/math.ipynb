{
 "cells": [
  {
   "cell_type": "markdown",
   "metadata": {
    "deletable": true,
    "editable": true
   },
   "source": [
    "## подготовка:"
   ]
  },
  {
   "cell_type": "code",
   "execution_count": 2,
   "metadata": {
    "collapsed": true,
    "deletable": true,
    "editable": true
   },
   "outputs": [],
   "source": [
    "import numpy as np\n",
    "from numpy.linalg import *\n",
    "rg = matrix_rank\n",
    "from IPython.display import display, Math, Latex, Markdown\n",
    "\n",
    "\n",
    "from sympy import *\n",
    "\n",
    "pr = lambda s: display(Markdown('$'+str(latex(s))+'$'))\n",
    "\n",
    "def pmatrix(a, intro='',ending='',row=False):\n",
    "    if len(a.shape) > 2:\n",
    "        raise ValueError('pmatrix can at most display two dimensions')\n",
    "    lines = str(a).replace('[', '').replace(']', '').splitlines()\n",
    "    rv = [r'\\begin{pmatrix}']\n",
    "    rv += ['  ' + ' & '.join(l.split()) + r'\\\\' for l in lines]\n",
    "    rv +=  [r'\\end{pmatrix}']\n",
    "    if row:\n",
    "        return(intro+'\\n'.join(rv)+ending)\n",
    "    else:\n",
    "        display(Latex('$$'+intro+'\\n'.join(rv)+ending+'$$'))"
   ]
  },
  {
   "cell_type": "markdown",
   "metadata": {
    "deletable": true,
    "editable": true
   },
   "source": [
    "# Задача 7\n",
    "## 1) доно:"
   ]
  },
  {
   "cell_type": "code",
   "execution_count": 6,
   "metadata": {
    "collapsed": false,
    "deletable": true,
    "editable": true
   },
   "outputs": [
    {
     "data": {
      "text/latex": [
       "$$C_{2\\times 2}=\\begin{pmatrix}\n",
       "  1 & 2\\\\\n",
       "  0 & 1\\\\\n",
       "\\end{pmatrix}$$"
      ],
      "text/plain": [
       "<IPython.core.display.Latex object>"
      ]
     },
     "metadata": {},
     "output_type": "display_data"
    },
    {
     "data": {
      "text/latex": [
       "$$D_{2\\times 2}=\\begin{pmatrix}\n",
       "  3 & 1\\\\\n",
       "  1 & 0\\\\\n",
       "\\end{pmatrix}$$"
      ],
      "text/plain": [
       "<IPython.core.display.Latex object>"
      ]
     },
     "metadata": {},
     "output_type": "display_data"
    },
    {
     "data": {
      "text/latex": [
       "$$B_{2\\times 2}=\\begin{pmatrix}\n",
       "  5 & 1\\\\\n",
       "  5 & 2\\\\\n",
       "\\end{pmatrix}$$"
      ],
      "text/plain": [
       "<IPython.core.display.Latex object>"
      ]
     },
     "metadata": {},
     "output_type": "display_data"
    }
   ],
   "source": [
    "C = np.array([[1,2],[0,1]])\n",
    "pmatrix(C, intro=r'C_{2\\times 2}=')\n",
    "\n",
    "D = np.array([[3,1],[1,0]])\n",
    "pmatrix(D, intro=r'D_{2\\times 2}=')\n",
    "\n",
    "B = np.array([[5,1],[5,2]])\n",
    "pmatrix(B, intro=r'B_{2\\times 2}=')"
   ]
  },
  {
   "cell_type": "code",
   "execution_count": 11,
   "metadata": {
    "collapsed": false,
    "deletable": true,
    "editable": true
   },
   "outputs": [
    {
     "data": {
      "text/latex": [
       "$$rg(A)=\\begin{pmatrix}\n",
       "  2\\\\\n",
       "\\end{pmatrix}$$"
      ],
      "text/plain": [
       "<IPython.core.display.Latex object>"
      ]
     },
     "metadata": {},
     "output_type": "display_data"
    }
   ],
   "source": [
    "A = np.array([[5,6],[3,4]])\n",
    "\n",
    "pmatrix(rg(A), intro=r'rg(A)=')"
   ]
  },
  {
   "cell_type": "code",
   "execution_count": 12,
   "metadata": {
    "collapsed": false,
    "deletable": true,
    "editable": true
   },
   "outputs": [
    {
     "data": {
      "text/latex": [
       "$$C^{-1}=\\begin{pmatrix}\n",
       "  1. & -2.\\\\\n",
       "  0. & 1.\\\\\n",
       "\\end{pmatrix}$$"
      ],
      "text/plain": [
       "<IPython.core.display.Latex object>"
      ]
     },
     "metadata": {},
     "output_type": "display_data"
    },
    {
     "data": {
      "text/latex": [
       "$$C^{T}=\\begin{pmatrix}\n",
       "  5 & 5\\\\\n",
       "  1 & 2\\\\\n",
       "\\end{pmatrix}$$"
      ],
      "text/plain": [
       "<IPython.core.display.Latex object>"
      ]
     },
     "metadata": {},
     "output_type": "display_data"
    },
    {
     "data": {
      "text/latex": [
       "$$BC=\\begin{pmatrix}\n",
       "  5 & 11\\\\\n",
       "  5 & 12\\\\\n",
       "\\end{pmatrix}$$"
      ],
      "text/plain": [
       "<IPython.core.display.Latex object>"
      ]
     },
     "metadata": {},
     "output_type": "display_data"
    },
    {
     "data": {
      "text/latex": [
       "$$rg(C)=\\begin{pmatrix}\n",
       "  2\\\\\n",
       "\\end{pmatrix}$$"
      ],
      "text/plain": [
       "<IPython.core.display.Latex object>"
      ]
     },
     "metadata": {},
     "output_type": "display_data"
    },
    {
     "data": {
      "text/latex": [
       "$$det(C)=\\begin{pmatrix}\n",
       "  5.0\\\\\n",
       "\\end{pmatrix}$$"
      ],
      "text/plain": [
       "<IPython.core.display.Latex object>"
      ]
     },
     "metadata": {},
     "output_type": "display_data"
    }
   ],
   "source": [
    "\n",
    "pmatrix(inv(C), intro=r'C^{-1}=')\n",
    "\n",
    "pmatrix(B.T, intro=r'C^{T}=')\n",
    "\n",
    "pmatrix(B.dot(C), intro=r'BC=')\n",
    "9\n",
    "pmatrix(rg(B), intro=r'rg(C)=')\n",
    "\n",
    "pmatrix(det(B), intro=r'det(C)=')\n"
   ]
  },
  {
   "cell_type": "code",
   "execution_count": 18,
   "metadata": {
    "collapsed": false,
    "deletable": true,
    "editable": true
   },
   "outputs": [
    {
     "data": {
      "text/latex": [
       "$$rg(A)=\\begin{pmatrix}\n",
       "  1\\\\\n",
       "\\end{pmatrix}$$"
      ],
      "text/plain": [
       "<IPython.core.display.Latex object>"
      ]
     },
     "metadata": {},
     "output_type": "display_data"
    }
   ],
   "source": [
    "A = np.array([[2,6],[1,3]])\n",
    "#pmatrix(rg(B), intro=r'rg(B)=')\n",
    "pmatrix(rg(A), intro=r'rg(A)=')\n",
    "#pmatrix(rg(A.dot(B)), intro=r'rg(AB)=')\n",
    "\n"
   ]
  },
  {
   "cell_type": "markdown",
   "metadata": {
    "collapsed": true,
    "deletable": true,
    "editable": true
   },
   "source": [
    "# 3 пункт"
   ]
  },
  {
   "cell_type": "markdown",
   "metadata": {
    "deletable": true,
    "editable": true
   },
   "source": [
    "## примерчик"
   ]
  },
  {
   "cell_type": "code",
   "execution_count": 10,
   "metadata": {
    "collapsed": false,
    "deletable": true,
    "editable": true
   },
   "outputs": [
    {
     "data": {
      "text/latex": [
       "$$X=\\begin{pmatrix}\n",
       "  5\\\\\n",
       "  1\\\\\n",
       "  5\\\\\n",
       "  2\\\\\n",
       "\\end{pmatrix}$$"
      ],
      "text/plain": [
       "<IPython.core.display.Latex object>"
      ]
     },
     "metadata": {},
     "output_type": "display_data"
    }
   ],
   "source": [
    "a1 = Symbol('a_{12}')\n",
    "b1 = Symbol('b_{11}')\n",
    "c1 = Symbol('c_{22}')\n",
    "d1 = Symbol('d_{21}')\n",
    "\n",
    "X =np.array([[a1,b1],[c1,d1]])\n",
    "\n",
    "B = np.array([[5,1],[5,2]])\n",
    "\n",
    "C1 = np.array([[1,1],[1,2]])\n",
    "D1 = np.array([[2,1],[1,0]])\n",
    "\n",
    "C2 = np.array([[1,-1],[0,1]])\n",
    "D2 = np.array([[1,1],[0,1]])\n",
    "pmatrix(B.reshape((4, 1)), intro=\"X=\")"
   ]
  },
  {
   "cell_type": "code",
   "execution_count": 4,
   "metadata": {
    "collapsed": false,
    "deletable": true,
    "editable": true
   },
   "outputs": [
    {
     "data": {
      "text/latex": [
       "$$\\begin{pmatrix}\n",
       "  2*a1 & + & b1 & + & 2*c1 & + & d1 & a1 & + & c1\\\\\n",
       "  2*a1 & + & b1 & + & 4*c1 & + & 2*d1 & a1 & + & 2*c1\\\\\n",
       "\\end{pmatrix}$$"
      ],
      "text/plain": [
       "<IPython.core.display.Latex object>"
      ]
     },
     "metadata": {},
     "output_type": "display_data"
    },
    {
     "data": {
      "text/latex": [
       "$$\\begin{pmatrix}\n",
       "  3*a1 & + & b1 & + & c1 & + & d1 & 2*a1 & + & b1 & - & d1\\\\\n",
       "  2*a1 & + & b1 & + & 5*c1 & + & 2*d1 & a1 & + & 3*c1 & + & d1\\\\\n",
       "\\end{pmatrix}$$"
      ],
      "text/plain": [
       "<IPython.core.display.Latex object>"
      ]
     },
     "metadata": {},
     "output_type": "display_data"
    },
    {
     "data": {
      "text/latex": [
       "$$\\begin{pmatrix}\n",
       "  3 & 1 & 1 & 1\\\\\n",
       "  2 & 1 & 0 & -1\\\\\n",
       "  2 & 1 & 5 & 2\\\\\n",
       "  1 & 0 & 3 & 1\\\\\n",
       "\\end{pmatrix}\\begin{pmatrix}\n",
       "  a1\\\\\n",
       "  b1\\\\\n",
       "  c1\\\\\n",
       "  d1\\\\\n",
       "\\end{pmatrix}=\\begin{pmatrix}\n",
       "  5\\\\\n",
       "  1\\\\\n",
       "  5\\\\\n",
       "  2\\\\\n",
       "\\end{pmatrix}$$"
      ],
      "text/plain": [
       "<IPython.core.display.Latex object>"
      ]
     },
     "metadata": {},
     "output_type": "display_data"
    },
    {
     "data": {
      "text/latex": [
       "$$rg(F)=\\begin{pmatrix}\n",
       "  4\\\\\n",
       "\\end{pmatrix}$$"
      ],
      "text/plain": [
       "<IPython.core.display.Latex object>"
      ]
     },
     "metadata": {},
     "output_type": "display_data"
    },
    {
     "name": "stdout",
     "output_type": "stream",
     "text": [
      "Зничит есть нормальное решение!)\n"
     ]
    }
   ],
   "source": [
    "pmatrix( (C1.dot(X)).dot(D1))\n",
    "A = (C1.dot(X)).dot(D1) + (C2.dot(X)).dot(D2)\n",
    "pmatrix(A)\n",
    "F = np.array([[3,1,1,1],[2,1,0,-1],[2,1,5,2],[1,0,3,1]])\n",
    "pmatrix(F, ending=pmatrix(X.reshape((4, 1)),row=True)+\"=\"+pmatrix(B.reshape((4, 1)),row=True))\n",
    "pmatrix(rg(F), intro=r'rg(F)=')\n",
    "print(\"Зничит есть нормальное решение!)\")"
   ]
  },
  {
   "cell_type": "markdown",
   "metadata": {
    "deletable": true,
    "editable": true
   },
   "source": [
    "# Решаем этоЁ!!!\n"
   ]
  },
  {
   "cell_type": "code",
   "execution_count": 12,
   "metadata": {
    "collapsed": true,
    "deletable": true,
    "editable": true
   },
   "outputs": [],
   "source": [
    "from sympy import Matrix, solve_linear_system\n",
    "from sympy.abc import a,b,c,d\n"
   ]
  },
  {
   "cell_type": "markdown",
   "metadata": {
    "deletable": true,
    "editable": true
   },
   "source": [
    "Examlpe:\n",
    "   x + 4 y ==  2\n",
    "-2 x +   y == 14\n",
    "\n",
    ">from sympy import Matrix, solve_linear_system\n",
    ">from sympy.abc import x, y\n",
    "\n",
    ">system = Matrix(( (1, 4, 2), (-2, 1, 14)))\n",
    ">solve_linear_system(system, x, y)"
   ]
  },
  {
   "cell_type": "code",
   "execution_count": 14,
   "metadata": {
    "collapsed": true,
    "deletable": true,
    "editable": true
   },
   "outputs": [],
   "source": [
    "system = Matrix(( (3,1,1,1,5), (2,1,0,-1,1), (2,1,5,2,5),(1,0,3,1,2) ))\n",
    "x = solve_linear_system(system, a,b,c,d)\n",
    "X =np.array([[x[a],x[b]],[x[c],x[d]] ])"
   ]
  },
  {
   "cell_type": "code",
   "execution_count": 15,
   "metadata": {
    "collapsed": false,
    "deletable": true,
    "editable": true
   },
   "outputs": [
    {
     "data": {
      "text/latex": [
       "$$X=\\begin{pmatrix}\n",
       "  10/11 & 9/11\\\\\n",
       "  -2/11 & 18/11\\\\\n",
       "\\end{pmatrix}$$"
      ],
      "text/plain": [
       "<IPython.core.display.Latex object>"
      ]
     },
     "metadata": {},
     "output_type": "display_data"
    }
   ],
   "source": [
    "pmatrix(X,intro=\"X=\")"
   ]
  },
  {
   "cell_type": "code",
   "execution_count": null,
   "metadata": {
    "collapsed": true,
    "deletable": true,
    "editable": true
   },
   "outputs": [],
   "source": []
  },
  {
   "cell_type": "code",
   "execution_count": 34,
   "metadata": {
    "collapsed": false,
    "deletable": true,
    "editable": true
   },
   "outputs": [
    {
     "data": {
      "text/markdown": [
       "$\\int \\sqrt{- x^{2} + 4 x}\\, dx$"
      ],
      "text/plain": [
       "<IPython.core.display.Markdown object>"
      ]
     },
     "metadata": {},
     "output_type": "display_data"
    }
   ],
   "source": [
    "\n",
    "x = Symbol('x')\n",
    "y = Symbol('y')\n",
    "pr(integrate(sqrt(4*x-x**2), x))"
   ]
  },
  {
   "cell_type": "code",
   "execution_count": null,
   "metadata": {
    "collapsed": true,
    "deletable": true,
    "editable": true
   },
   "outputs": [],
   "source": []
  }
 ],
 "metadata": {
  "kernelspec": {
   "display_name": "Python 3",
   "language": "python",
   "name": "python3"
  },
  "language_info": {
   "codemirror_mode": {
    "name": "ipython",
    "version": 3
   },
   "file_extension": ".py",
   "mimetype": "text/x-python",
   "name": "python",
   "nbconvert_exporter": "python",
   "pygments_lexer": "ipython3",
   "version": "3.5.3"
  }
 },
 "nbformat": 4,
 "nbformat_minor": 2
}
