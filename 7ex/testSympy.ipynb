{
 "cells": [
  {
   "cell_type": "code",
   "execution_count": 1,
   "metadata": {
    "collapsed": true
   },
   "outputs": [],
   "source": [
    "import numpy as np\n",
    "from numpy.linalg import *\n",
    "rg = matrix_rank\n",
    "from IPython.display import display, Math, Latex, Markdown\n",
    "\n",
    "from sympy import *\n",
    "from sympy import Matrix, solve_linear_system"
   ]
  },
  {
   "cell_type": "code",
   "execution_count": 2,
   "metadata": {
    "collapsed": true
   },
   "outputs": [],
   "source": [
    "pr = lambda s: display(Markdown('$'+str(latex(s))+'$'))\n",
    "def psym_matrix(a, intro='',ending='',row=False):\n",
    "    try:\n",
    "        if row:\n",
    "                return(intro+str(latex(a))+ending)\n",
    "        else:\n",
    "                display(Latex(\"$$\"+intro+str(latex(a))+ending+\"$$\"))\n",
    "    except TypeError:\n",
    "        display(latex(a)) #TODO MAY BY...\n",
    "pr = lambda s: display(Markdown('$'+str(latex(s))+'$'))\n",
    "\n",
    "def pmatrix(a, intro='',ending='',row=False):\n",
    "    if len(a.shape) > 2:\n",
    "        raise ValueError('pmatrix can at most display two dimensions')\n",
    "    lines = str(a).replace('[', '').replace(']', '').splitlines()\n",
    "    rv = [r'\\begin{pmatrix}']\n",
    "    rv += ['  ' + ' & '.join(l.split()) + r'\\\\' for l in lines]\n",
    "    rv +=  [r'\\end{pmatrix}']\n",
    "    if row:\n",
    "        return(intro+'\\n'.join(rv)+ending)\n",
    "    else:\n",
    "        display(Latex('$$'+intro+'\\n'.join(rv)+ending+'$$'))\n",
    "def crearMatrix(name,shape=(2,2)):\n",
    "    X = []\n",
    "    for i in range(shape[0]):\n",
    "        row = []\n",
    "        for j in range(shape[1]):\n",
    "            row.append(Symbol(name+'_{'+str(i*10+j+11)+'}'))\n",
    "        X.append(row)\n",
    "    return Matrix(X)"
   ]
  },
  {
   "cell_type": "code",
   "execution_count": 11,
   "metadata": {
    "collapsed": false
   },
   "outputs": [
    {
     "data": {
      "text/latex": [
       "$$X=\\left[\\begin{matrix}x_{11} & x_{12}\\\\x_{21} & x_{22}\\end{matrix}\\right]$$"
      ],
      "text/plain": [
       "<IPython.core.display.Latex object>"
      ]
     },
     "metadata": {},
     "output_type": "display_data"
    },
    {
     "data": {
      "text/latex": [
       "$$B=\\left[\\begin{matrix}b_{11} & b_{12}\\\\b_{21} & b_{22}\\end{matrix}\\right]$$"
      ],
      "text/plain": [
       "<IPython.core.display.Latex object>"
      ]
     },
     "metadata": {},
     "output_type": "display_data"
    },
    {
     "data": {
      "text/latex": [
       "$$D=\\left[\\begin{matrix}b_{11} & b_{12}\\\\b_{21} & b_{22}\\end{matrix}\\right]$$"
      ],
      "text/plain": [
       "<IPython.core.display.Latex object>"
      ]
     },
     "metadata": {},
     "output_type": "display_data"
    },
    {
     "data": {
      "text/latex": [
       "$$C=\\left[\\begin{matrix}c_{11} & c_{12}\\\\c_{21} & c_{22}\\end{matrix}\\right]$$"
      ],
      "text/plain": [
       "<IPython.core.display.Latex object>"
      ]
     },
     "metadata": {},
     "output_type": "display_data"
    }
   ],
   "source": [
    "X = crearMatrix(\"x\")\n",
    "B = crearMatrix(\"b\")\n",
    "\n",
    "D= crearMatrix(\"d\")\n",
    "C= crearMatrix(\"c\")\n",
    "\n",
    "psym_matrix(X, intro=\"X=\")\n",
    "psym_matrix(B, intro=\"B=\")\n",
    "psym_matrix(B, intro=\"D=\")\n",
    "psym_matrix(C, intro=\"C=\")"
   ]
  },
  {
   "cell_type": "markdown",
   "metadata": {},
   "source": [
    "### $$ CXD=B $$"
   ]
  },
  {
   "cell_type": "code",
   "execution_count": 12,
   "metadata": {
    "collapsed": false
   },
   "outputs": [
    {
     "data": {
      "text/latex": [
       "$$\\left[\\begin{matrix}c_{11} & c_{12}\\\\c_{21} & c_{22}\\end{matrix}\\right]\\left[\\begin{matrix}x_{11} & x_{12}\\\\x_{21} & x_{22}\\end{matrix}\\right]\\left[\\begin{matrix}d_{11} & d_{12}\\\\d_{21} & d_{22}\\end{matrix}\\right]=\\left[\\begin{matrix}b_{11} & b_{12}\\\\b_{21} & b_{22}\\end{matrix}\\right]$$"
      ],
      "text/plain": [
       "<IPython.core.display.Latex object>"
      ]
     },
     "metadata": {},
     "output_type": "display_data"
    }
   ],
   "source": [
    "psym_matrix(D, \n",
    "            intro=psym_matrix(C,row=1)+psym_matrix(X,row=1),\n",
    "            ending=\"=\"+ psym_matrix(B,row=1))"
   ]
  },
  {
   "cell_type": "code",
   "execution_count": 13,
   "metadata": {
    "collapsed": false
   },
   "outputs": [
    {
     "data": {
      "text/latex": [
       "$$\\left[\\begin{matrix}d_{11} \\left(c_{11} x_{11} + c_{12} x_{21}\\right) + d_{21} \\left(c_{11} x_{12} + c_{12} x_{22}\\right) & d_{12} \\left(c_{11} x_{11} + c_{12} x_{21}\\right) + d_{22} \\left(c_{11} x_{12} + c_{12} x_{22}\\right)\\\\d_{11} \\left(c_{21} x_{11} + c_{22} x_{21}\\right) + d_{21} \\left(c_{21} x_{12} + c_{22} x_{22}\\right) & d_{12} \\left(c_{21} x_{11} + c_{22} x_{21}\\right) + d_{22} \\left(c_{21} x_{12} + c_{22} x_{22}\\right)\\end{matrix}\\right]=\\left[\\begin{matrix}b_{11} & b_{12}\\\\b_{21} & b_{22}\\end{matrix}\\right]$$"
      ],
      "text/plain": [
       "<IPython.core.display.Latex object>"
      ]
     },
     "metadata": {},
     "output_type": "display_data"
    }
   ],
   "source": [
    "psym_matrix(C*X*D, ending=\"=\"+ psym_matrix(B,row=1))"
   ]
  },
  {
   "cell_type": "code",
   "execution_count": 23,
   "metadata": {
    "collapsed": false
   },
   "outputs": [
    {
     "data": {
      "text/latex": [
       "$$\\left[\\begin{matrix}d_{11} \\left(c_{11} x_{11} + c_{12} x_{21}\\right) + d_{21} \\left(c_{11} x_{12} + c_{12} x_{22}\\right)\\\\d_{12} \\left(c_{11} x_{11} + c_{12} x_{21}\\right) + d_{22} \\left(c_{11} x_{12} + c_{12} x_{22}\\right)\\\\d_{11} \\left(c_{21} x_{11} + c_{22} x_{21}\\right) + d_{21} \\left(c_{21} x_{12} + c_{22} x_{22}\\right)\\\\d_{12} \\left(c_{21} x_{11} + c_{22} x_{21}\\right) + d_{22} \\left(c_{21} x_{12} + c_{22} x_{22}\\right)\\end{matrix}\\right]=\\left[\\begin{matrix}b_{11} & b_{12} & b_{21} & b_{22}\\end{matrix}\\right]$$"
      ],
      "text/plain": [
       "<IPython.core.display.Latex object>"
      ]
     },
     "metadata": {},
     "output_type": "display_data"
    }
   ],
   "source": [
    "psym_matrix((C*X*D).reshape(4, 1),\n",
    "            ending=\"=\"+ psym_matrix(B.reshape(1, 4),row=1))"
   ]
  },
  {
   "cell_type": "code",
   "execution_count": 26,
   "metadata": {
    "collapsed": false
   },
   "outputs": [
    {
     "data": {
      "text/latex": [
       "$$\\left[\\begin{matrix}d_{11} & d_{12} & 0 & 0\\\\d_{21} & d_{22} & 0 & 0\\\\0 & 0 & d_{11} & d_{12}\\\\0 & 0 & d_{21} & d_{22}\\end{matrix}\\right]$$"
      ],
      "text/plain": [
       "<IPython.core.display.Latex object>"
      ]
     },
     "metadata": {},
     "output_type": "display_data"
    },
    {
     "data": {
      "text/latex": [
       "$$\\left[\\begin{matrix}c_{11} & 0 & c_{21} & 0\\\\0 & c_{11} & 0 & c_{21}\\\\c_{12} & 0 & c_{22} & 0\\\\0 & c_{12} & 0 & c_{22}\\end{matrix}\\right]$$"
      ],
      "text/plain": [
       "<IPython.core.display.Latex object>"
      ]
     },
     "metadata": {},
     "output_type": "display_data"
    }
   ],
   "source": [
    "R = Matrix([ # How???\n",
    "    [ C[0,0], 0     , C[1,0], 0     ,],\n",
    "    [ 0     , C[0,0], 0     , C[1,0],],\n",
    "    [ C[0,1], 0     , C[1,1], 0     ,],\n",
    "    [ 0     , C[0,1], 0     , C[1,1],]\n",
    "])\n",
    "T = Matrix([ # How???\n",
    "    [D[0,0],D[0,1],   0  , 0    ],\n",
    "    [D[1,0],D[1,1],   0  , 0    ],\n",
    "    [ 0    , 0    ,D[0,0],D[0,1]],\n",
    "    [ 0    , 0    ,D[1,0],D[1,1]]\n",
    "])\n",
    "psym_matrix(T)\n",
    "\n",
    "psym_matrix(R)"
   ]
  },
  {
   "cell_type": "code",
   "execution_count": 27,
   "metadata": {
    "collapsed": false
   },
   "outputs": [
    {
     "data": {
      "text/latex": [
       "$$\\left[\\begin{matrix}x_{11} & x_{12} & x_{21} & x_{22}\\end{matrix}\\right]$$"
      ],
      "text/plain": [
       "<IPython.core.display.Latex object>"
      ]
     },
     "metadata": {},
     "output_type": "display_data"
    },
    {
     "data": {
      "text/latex": [
       "$$\\left[\\begin{matrix}d_{11} \\left(c_{11} x_{11} + c_{12} x_{21}\\right) + d_{21} \\left(c_{11} x_{12} + c_{12} x_{22}\\right) & d_{12} \\left(c_{11} x_{11} + c_{12} x_{21}\\right) + d_{22} \\left(c_{11} x_{12} + c_{12} x_{22}\\right) & d_{11} \\left(c_{21} x_{11} + c_{22} x_{21}\\right) + d_{21} \\left(c_{21} x_{12} + c_{22} x_{22}\\right) & d_{12} \\left(c_{21} x_{11} + c_{22} x_{21}\\right) + d_{22} \\left(c_{21} x_{12} + c_{22} x_{22}\\right)\\end{matrix}\\right]$$"
      ],
      "text/plain": [
       "<IPython.core.display.Latex object>"
      ]
     },
     "metadata": {},
     "output_type": "display_data"
    }
   ],
   "source": [
    "psym_matrix(X.reshape(1, 4))\n",
    "psym_matrix(X.reshape(1, 4)*R*T)"
   ]
  },
  {
   "cell_type": "code",
   "execution_count": 28,
   "metadata": {
    "collapsed": false
   },
   "outputs": [
    {
     "ename": "TypeError",
     "evalue": "No loop matching the specified signature and casting\nwas found for ufunc svd_n",
     "output_type": "error",
     "traceback": [
      "\u001b[0;31m---------------------------------------------------------------------------\u001b[0m",
      "\u001b[0;31mTypeError\u001b[0m                                 Traceback (most recent call last)",
      "\u001b[0;32m<ipython-input-28-f1049b920776>\u001b[0m in \u001b[0;36m<module>\u001b[0;34m()\u001b[0m\n\u001b[0;32m----> 1\u001b[0;31m \u001b[0mpmatrix\u001b[0m\u001b[0;34m(\u001b[0m\u001b[0mrg\u001b[0m\u001b[0;34m(\u001b[0m\u001b[0mF\u001b[0m\u001b[0;34m)\u001b[0m\u001b[0;34m,\u001b[0m \u001b[0mintro\u001b[0m\u001b[0;34m=\u001b[0m\u001b[0;34mr'rg(F)='\u001b[0m\u001b[0;34m,\u001b[0m \u001b[0mending\u001b[0m\u001b[0;34m=\u001b[0m\u001b[0;34m\"\\Leftrightarrow\\exists F^{-1}\"\u001b[0m\u001b[0;34m)\u001b[0m \u001b[0;31m#ранг\u001b[0m\u001b[0;34m\u001b[0m\u001b[0m\n\u001b[0m",
      "\u001b[0;32m/home/hetter/.local/lib/python3.5/site-packages/numpy/linalg/linalg.py\u001b[0m in \u001b[0;36mmatrix_rank\u001b[0;34m(M, tol)\u001b[0m\n\u001b[1;32m   1586\u001b[0m     \u001b[0;32mif\u001b[0m \u001b[0mM\u001b[0m\u001b[0;34m.\u001b[0m\u001b[0mndim\u001b[0m \u001b[0;34m<\u001b[0m \u001b[0;36m2\u001b[0m\u001b[0;34m:\u001b[0m\u001b[0;34m\u001b[0m\u001b[0m\n\u001b[1;32m   1587\u001b[0m         \u001b[0;32mreturn\u001b[0m \u001b[0mint\u001b[0m\u001b[0;34m(\u001b[0m\u001b[0;32mnot\u001b[0m \u001b[0mall\u001b[0m\u001b[0;34m(\u001b[0m\u001b[0mM\u001b[0m\u001b[0;34m==\u001b[0m\u001b[0;36m0\u001b[0m\u001b[0;34m)\u001b[0m\u001b[0;34m)\u001b[0m\u001b[0;34m\u001b[0m\u001b[0m\n\u001b[0;32m-> 1588\u001b[0;31m     \u001b[0mS\u001b[0m \u001b[0;34m=\u001b[0m \u001b[0msvd\u001b[0m\u001b[0;34m(\u001b[0m\u001b[0mM\u001b[0m\u001b[0;34m,\u001b[0m \u001b[0mcompute_uv\u001b[0m\u001b[0;34m=\u001b[0m\u001b[0;32mFalse\u001b[0m\u001b[0;34m)\u001b[0m\u001b[0;34m\u001b[0m\u001b[0m\n\u001b[0m\u001b[1;32m   1589\u001b[0m     \u001b[0;32mif\u001b[0m \u001b[0mtol\u001b[0m \u001b[0;32mis\u001b[0m \u001b[0;32mNone\u001b[0m\u001b[0;34m:\u001b[0m\u001b[0;34m\u001b[0m\u001b[0m\n\u001b[1;32m   1590\u001b[0m         \u001b[0mtol\u001b[0m \u001b[0;34m=\u001b[0m \u001b[0mS\u001b[0m\u001b[0;34m.\u001b[0m\u001b[0mmax\u001b[0m\u001b[0;34m(\u001b[0m\u001b[0;34m)\u001b[0m \u001b[0;34m*\u001b[0m \u001b[0mmax\u001b[0m\u001b[0;34m(\u001b[0m\u001b[0mM\u001b[0m\u001b[0;34m.\u001b[0m\u001b[0mshape\u001b[0m\u001b[0;34m)\u001b[0m \u001b[0;34m*\u001b[0m \u001b[0mfinfo\u001b[0m\u001b[0;34m(\u001b[0m\u001b[0mS\u001b[0m\u001b[0;34m.\u001b[0m\u001b[0mdtype\u001b[0m\u001b[0;34m)\u001b[0m\u001b[0;34m.\u001b[0m\u001b[0meps\u001b[0m\u001b[0;34m\u001b[0m\u001b[0m\n",
      "\u001b[0;32m/home/hetter/.local/lib/python3.5/site-packages/numpy/linalg/linalg.py\u001b[0m in \u001b[0;36msvd\u001b[0;34m(a, full_matrices, compute_uv)\u001b[0m\n\u001b[1;32m   1414\u001b[0m \u001b[0;34m\u001b[0m\u001b[0m\n\u001b[1;32m   1415\u001b[0m         \u001b[0msignature\u001b[0m \u001b[0;34m=\u001b[0m \u001b[0;34m'D->d'\u001b[0m \u001b[0;32mif\u001b[0m \u001b[0misComplexType\u001b[0m\u001b[0;34m(\u001b[0m\u001b[0mt\u001b[0m\u001b[0;34m)\u001b[0m \u001b[0;32melse\u001b[0m \u001b[0;34m'd->d'\u001b[0m\u001b[0;34m\u001b[0m\u001b[0m\n\u001b[0;32m-> 1416\u001b[0;31m         \u001b[0ms\u001b[0m \u001b[0;34m=\u001b[0m \u001b[0mgufunc\u001b[0m\u001b[0;34m(\u001b[0m\u001b[0ma\u001b[0m\u001b[0;34m,\u001b[0m \u001b[0msignature\u001b[0m\u001b[0;34m=\u001b[0m\u001b[0msignature\u001b[0m\u001b[0;34m,\u001b[0m \u001b[0mextobj\u001b[0m\u001b[0;34m=\u001b[0m\u001b[0mextobj\u001b[0m\u001b[0;34m)\u001b[0m\u001b[0;34m\u001b[0m\u001b[0m\n\u001b[0m\u001b[1;32m   1417\u001b[0m         \u001b[0ms\u001b[0m \u001b[0;34m=\u001b[0m \u001b[0ms\u001b[0m\u001b[0;34m.\u001b[0m\u001b[0mastype\u001b[0m\u001b[0;34m(\u001b[0m\u001b[0m_realType\u001b[0m\u001b[0;34m(\u001b[0m\u001b[0mresult_t\u001b[0m\u001b[0;34m)\u001b[0m\u001b[0;34m,\u001b[0m \u001b[0mcopy\u001b[0m\u001b[0;34m=\u001b[0m\u001b[0;32mFalse\u001b[0m\u001b[0;34m)\u001b[0m\u001b[0;34m\u001b[0m\u001b[0m\n\u001b[1;32m   1418\u001b[0m         \u001b[0;32mreturn\u001b[0m \u001b[0ms\u001b[0m\u001b[0;34m\u001b[0m\u001b[0m\n",
      "\u001b[0;31mTypeError\u001b[0m: No loop matching the specified signature and casting\nwas found for ufunc svd_n"
     ]
    }
   ],
   "source": [
    "pmatrix(rg(F), intro=r'rg(F)=', ending=\"\\Leftrightarrow\\exists F^{-1}\") #ранг"
   ]
  },
  {
   "cell_type": "code",
   "execution_count": null,
   "metadata": {
    "collapsed": true
   },
   "outputs": [],
   "source": []
  }
 ],
 "metadata": {
  "kernelspec": {
   "display_name": "Python 3",
   "language": "python",
   "name": "python3"
  },
  "language_info": {
   "codemirror_mode": {
    "name": "ipython",
    "version": 3
   },
   "file_extension": ".py",
   "mimetype": "text/x-python",
   "name": "python",
   "nbconvert_exporter": "python",
   "pygments_lexer": "ipython3",
   "version": "3.5.3"
  }
 },
 "nbformat": 4,
 "nbformat_minor": 2
}
