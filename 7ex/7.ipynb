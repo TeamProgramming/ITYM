{
 "cells": [
  {
   "cell_type": "markdown",
   "metadata": {
    "deletable": true,
    "editable": true
   },
   "source": [
    "## Подготовка:"
   ]
  },
  {
   "cell_type": "code",
   "execution_count": 1,
   "metadata": {
    "collapsed": true,
    "deletable": true,
    "editable": true
   },
   "outputs": [],
   "source": [
    "import numpy as np\n",
    "from numpy.linalg import *\n",
    "rg = matrix_rank\n",
    "from IPython.display import display, Math, Latex, Markdown\n",
    "\n",
    "from sympy import *\n",
    "from sympy import Matrix, solve_linear_system"
   ]
  },
  {
   "cell_type": "code",
   "execution_count": 11,
   "metadata": {
    "collapsed": false,
    "deletable": true,
    "editable": true
   },
   "outputs": [],
   "source": [
    "pr = lambda s: display(Markdown('$'+str(latex(s))+'$'))\n",
    "def psym_matrix(a, intro='',ending='',row=False):\n",
    "    try:\n",
    "        if row:\n",
    "                return(intro+str(latex(a))+ending)\n",
    "        else:\n",
    "                display(Latex(\"$$\"+intro+str(latex(a))+ending+\"$$\"))\n",
    "    except TypeError:\n",
    "        display(latex(a)) #TODO MAY BY...\n",
    "pr = lambda s: display(Markdown('$'+str(latex(s))+'$'))\n",
    "\n",
    "def pmatrix(a, intro='',ending='',row=False):\n",
    "    if len(a.shape) > 2:\n",
    "        raise ValueError('pmatrix can at most display two dimensions')\n",
    "    lines = str(a).replace('[', '').replace(']', '').splitlines()\n",
    "    rv = [r'\\begin{pmatrix}']\n",
    "    rv += ['  ' + ' & '.join(l.split()) + r'\\\\' for l in lines]\n",
    "    rv +=  [r'\\end{pmatrix}']\n",
    "    if row:\n",
    "        return(intro+'\\n'.join(rv)+ending)\n",
    "    else:\n",
    "        display(Latex('$$'+intro+'\\n'.join(rv)+ending+'$$'))\n",
    "def crearMatrix(name,shape=(2,2)):\n",
    "    X = []\n",
    "    for i in range(shape[0]):\n",
    "        row = []\n",
    "        for j in range(shape[1]):\n",
    "            row.append(Symbol(name+'_{'+str(i*10+j+11)+'}'))\n",
    "        X.append(row)\n",
    "    return Matrix(X)"
   ]
  },
  {
   "cell_type": "markdown",
   "metadata": {
    "deletable": true,
    "editable": true
   },
   "source": [
    "# 3 пункт\n",
    "## пример:\n",
    "### Дано:"
   ]
  },
  {
   "cell_type": "code",
   "execution_count": 3,
   "metadata": {
    "collapsed": false,
    "deletable": true,
    "editable": true
   },
   "outputs": [
    {
     "data": {
      "text/latex": [
       "$$X=\\begin{pmatrix}\n",
       "  x_{11} & x_{12}\\\\\n",
       "  x_{21} & x_{22}\\\\\n",
       "\\end{pmatrix}$$"
      ],
      "text/plain": [
       "<IPython.core.display.Latex object>"
      ]
     },
     "metadata": {},
     "output_type": "display_data"
    }
   ],
   "source": [
    "X = np.array([[Symbol(\"x_{11}\"), Symbol(\"x_{12}\")],[Symbol(\"x_{21}\"),Symbol(\"x_{22}\")]])\n",
    "pmatrix(X, intro=\"X=\")"
   ]
  },
  {
   "cell_type": "code",
   "execution_count": 5,
   "metadata": {
    "collapsed": false,
    "deletable": true,
    "editable": true
   },
   "outputs": [],
   "source": [
    "B = np.array([[5,1],\n",
    "              [5,2]])\n",
    "\n",
    "C1 = np.array([[1,1],\n",
    "               [1,2]])\n",
    "D1 = np.array([[2,1],\n",
    "               [1,0]])\n",
    "\n",
    "C2 = np.array([[1,-1],\n",
    "               [0,1]])\n",
    "\n",
    "D2 = np.array([[1,1],\n",
    "               [0,1]])\n"
   ]
  },
  {
   "cell_type": "markdown",
   "metadata": {
    "deletable": true,
    "editable": true
   },
   "source": [
    "### Распишим  $$C^1XD^1+C^2XD^2$$"
   ]
  },
  {
   "cell_type": "code",
   "execution_count": 6,
   "metadata": {
    "collapsed": false,
    "deletable": true,
    "editable": true
   },
   "outputs": [
    {
     "data": {
      "text/latex": [
       "$$\\begin{pmatrix}\n",
       "  3*x_{11} & + & x_{12} & + & x_{21} & + & x_{22} & 2*x_{11} & + & x_{12} & - & x_{22}\\\\\n",
       "  2*x_{11} & + & x_{12} & + & 5*x_{21} & + & 2*x_{22} & x_{11} & + & 3*x_{21} & + & x_{22}\\\\\n",
       "\\end{pmatrix}$$"
      ],
      "text/plain": [
       "<IPython.core.display.Latex object>"
      ]
     },
     "metadata": {},
     "output_type": "display_data"
    }
   ],
   "source": [
    "A = (C1.dot(X)).dot(D1) + (C2.dot(X)).dot(D2)\n",
    "pmatrix(A)"
   ]
  },
  {
   "cell_type": "markdown",
   "metadata": {
    "deletable": true,
    "editable": true
   },
   "source": [
    "### Приведём к виду Ax=b, где x,b вектора"
   ]
  },
  {
   "cell_type": "code",
   "execution_count": 7,
   "metadata": {
    "collapsed": false,
    "deletable": true,
    "editable": true
   },
   "outputs": [
    {
     "data": {
      "text/latex": [
       "$$\\begin{pmatrix}\n",
       "  3 & 1 & 1 & 1\\\\\n",
       "  2 & 1 & 0 & -1\\\\\n",
       "  2 & 1 & 5 & 2\\\\\n",
       "  1 & 0 & 3 & 1\\\\\n",
       "\\end{pmatrix}\\begin{pmatrix}\n",
       "  x_{11}\\\\\n",
       "  x_{12}\\\\\n",
       "  x_{21}\\\\\n",
       "  x_{22}\\\\\n",
       "\\end{pmatrix}=\\begin{pmatrix}\n",
       "  5\\\\\n",
       "  1\\\\\n",
       "  5\\\\\n",
       "  2\\\\\n",
       "\\end{pmatrix}$$"
      ],
      "text/plain": [
       "<IPython.core.display.Latex object>"
      ]
     },
     "metadata": {},
     "output_type": "display_data"
    }
   ],
   "source": [
    "F = np.array([[3,1,1,1],\n",
    "              [2,1,0,-1],\n",
    "              [2,1,5,2],\n",
    "              [1,0,3,1]])\n",
    "pmatrix(F, ending=pmatrix(X.reshape((4, 1)),row=True)+\"=\"+pmatrix(B.reshape((4, 1)),row=True))"
   ]
  },
  {
   "cell_type": "code",
   "execution_count": 8,
   "metadata": {
    "collapsed": false,
    "deletable": true,
    "editable": true
   },
   "outputs": [
    {
     "data": {
      "text/latex": [
       "$$rg(F)=\\begin{pmatrix}\n",
       "  4\\\\\n",
       "\\end{pmatrix}\\Leftrightarrow\\exists F^{-1}$$"
      ],
      "text/plain": [
       "<IPython.core.display.Latex object>"
      ]
     },
     "metadata": {},
     "output_type": "display_data"
    }
   ],
   "source": [
    "pmatrix(rg(F), intro=r'rg(F)=', ending=\"\\Leftrightarrow\\exists F^{-1}\") #ранг"
   ]
  },
  {
   "cell_type": "markdown",
   "metadata": {
    "deletable": true,
    "editable": true
   },
   "source": [
    "### Решаем это:"
   ]
  },
  {
   "cell_type": "code",
   "execution_count": 9,
   "metadata": {
    "collapsed": false,
    "deletable": true,
    "editable": true
   },
   "outputs": [
    {
     "data": {
      "text/latex": [
       "$$X=\\begin{pmatrix}\n",
       "  10/11 & 9/11\\\\\n",
       "  -2/11 & 18/11\\\\\n",
       "\\end{pmatrix}$$"
      ],
      "text/plain": [
       "<IPython.core.display.Latex object>"
      ]
     },
     "metadata": {},
     "output_type": "display_data"
    }
   ],
   "source": [
    "from sympy.abc import a,b,c,d\n",
    "system = Matrix(( (3,1,1,1,5), (2,1,0,-1,1), (2,1,5,2,5),(1,0,3,1,2) ))\n",
    "x = solve_linear_system(system, a,b,c,d)\n",
    "X =np.array([[x[a],x[b]],[x[c],x[d]] ])\n",
    "pmatrix(X,intro=\"X=\")"
   ]
  },
  {
   "cell_type": "markdown",
   "metadata": {
    "collapsed": false,
    "deletable": true,
    "editable": true
   },
   "source": [
    "# 3 пункт обощение:"
   ]
  },
  {
   "cell_type": "markdown",
   "metadata": {
    "deletable": true,
    "editable": true
   },
   "source": [
    "## Рассмотрим $$C^1XD^1+C^2XD^2=B$$"
   ]
  },
  {
   "cell_type": "markdown",
   "metadata": {
    "deletable": true,
    "editable": true
   },
   "source": [
    "### Обозначения:"
   ]
  },
  {
   "cell_type": "markdown",
   "metadata": {
    "deletable": true,
    "editable": true
   },
   "source": [
    "#### Примечание: $$С^n,D^n,\\textbf{ где n не степень!} $$"
   ]
  },
  {
   "cell_type": "code",
   "execution_count": 12,
   "metadata": {
    "collapsed": false,
    "deletable": true,
    "editable": true
   },
   "outputs": [
    {
     "data": {
      "text/latex": [
       "$$X=\\left[\\begin{matrix}x_{11} & x_{12}\\\\x_{21} & x_{22}\\end{matrix}\\right]$$"
      ],
      "text/plain": [
       "<IPython.core.display.Latex object>"
      ]
     },
     "metadata": {},
     "output_type": "display_data"
    },
    {
     "data": {
      "text/latex": [
       "$$B=\\left[\\begin{matrix}b_{11} & b_{12}\\\\b_{21} & b_{22}\\end{matrix}\\right]$$"
      ],
      "text/plain": [
       "<IPython.core.display.Latex object>"
      ]
     },
     "metadata": {},
     "output_type": "display_data"
    },
    {
     "data": {
      "text/latex": [
       "$$D^1=\\left[\\begin{matrix}d^1_{11} & d^1_{12}\\\\d^1_{21} & d^1_{22}\\end{matrix}\\right]$$"
      ],
      "text/plain": [
       "<IPython.core.display.Latex object>"
      ]
     },
     "metadata": {},
     "output_type": "display_data"
    },
    {
     "data": {
      "text/latex": [
       "$$C^1=\\left[\\begin{matrix}c^1_{11} & c^1_{12}\\\\c^1_{21} & c^1_{22}\\end{matrix}\\right]$$"
      ],
      "text/plain": [
       "<IPython.core.display.Latex object>"
      ]
     },
     "metadata": {},
     "output_type": "display_data"
    },
    {
     "data": {
      "text/latex": [
       "$$D^2=\\left[\\begin{matrix}d^2_{11} & d^2_{12}\\\\d^2_{21} & d^2_{22}\\end{matrix}\\right]$$"
      ],
      "text/plain": [
       "<IPython.core.display.Latex object>"
      ]
     },
     "metadata": {},
     "output_type": "display_data"
    },
    {
     "data": {
      "text/latex": [
       "$$C^2=\\left[\\begin{matrix}c^2_{11} & c^2_{12}\\\\c^2_{21} & c^2_{22}\\end{matrix}\\right]$$"
      ],
      "text/plain": [
       "<IPython.core.display.Latex object>"
      ]
     },
     "metadata": {},
     "output_type": "display_data"
    }
   ],
   "source": [
    "X = crearMatrix(\"x\")\n",
    "B = crearMatrix(\"b\")\n",
    "\n",
    "D1= crearMatrix(\"d^1\")\n",
    "C1= crearMatrix(\"c^1\")\n",
    "D2= crearMatrix(\"d^2\")\n",
    "C2= crearMatrix(\"c^2\")\n",
    "\n",
    "psym_matrix(X, intro=\"X=\")\n",
    "psym_matrix(B, intro=\"B=\")\n",
    "\n",
    "psym_matrix(D1, intro=\"D^1=\")\n",
    "psym_matrix(C1, intro=\"C^1=\")\n",
    "psym_matrix(D2, intro=\"D^2=\")\n",
    "psym_matrix(C2, intro=\"C^2=\")"
   ]
  },
  {
   "cell_type": "markdown",
   "metadata": {
    "deletable": true,
    "editable": true
   },
   "source": [
    "### Символьно посчитаем выражение\n",
    "$$A = C^1XD^1+C^2XD^2$$"
   ]
  },
  {
   "cell_type": "code",
   "execution_count": 13,
   "metadata": {
    "collapsed": false,
    "deletable": true,
    "editable": true
   },
   "outputs": [
    {
     "data": {
      "text/latex": [
       "$$A=\\left[\\begin{matrix}a_{11} & a_{12}\\\\a_{21} & a_{22}\\end{matrix}\\right]$$"
      ],
      "text/plain": [
       "<IPython.core.display.Latex object>"
      ]
     },
     "metadata": {},
     "output_type": "display_data"
    }
   ],
   "source": [
    "\n",
    "A = C2*X*D1+C2*X*D2\n",
    "psym_matrix(crearMatrix(\"a\"), intro=\"A=\")"
   ]
  },
  {
   "cell_type": "code",
   "execution_count": 14,
   "metadata": {
    "collapsed": false,
    "deletable": true,
    "editable": true
   },
   "outputs": [
    {
     "data": {
      "text/latex": [
       "$$\\left[\\begin{matrix}d^1_{11} \\left(c^2_{11} x_{11} + c^2_{12} x_{21}\\right) + d^1_{21} \\left(c^2_{11} x_{12} + c^2_{12} x_{22}\\right) + d^2_{11} \\left(c^2_{11} x_{11} + c^2_{12} x_{21}\\right) + d^2_{21} \\left(c^2_{11} x_{12} + c^2_{12} x_{22}\\right) & d^1_{12} \\left(c^2_{11} x_{11} + c^2_{12} x_{21}\\right) + d^1_{22} \\left(c^2_{11} x_{12} + c^2_{12} x_{22}\\right) + d^2_{12} \\left(c^2_{11} x_{11} + c^2_{12} x_{21}\\right) + d^2_{22} \\left(c^2_{11} x_{12} + c^2_{12} x_{22}\\right)\\\\d^1_{11} \\left(c^2_{21} x_{11} + c^2_{22} x_{21}\\right) + d^1_{21} \\left(c^2_{21} x_{12} + c^2_{22} x_{22}\\right) + d^2_{11} \\left(c^2_{21} x_{11} + c^2_{22} x_{21}\\right) + d^2_{21} \\left(c^2_{21} x_{12} + c^2_{22} x_{22}\\right) & d^1_{12} \\left(c^2_{21} x_{11} + c^2_{22} x_{21}\\right) + d^1_{22} \\left(c^2_{21} x_{12} + c^2_{22} x_{22}\\right) + d^2_{12} \\left(c^2_{21} x_{11} + c^2_{22} x_{21}\\right) + d^2_{22} \\left(c^2_{21} x_{12} + c^2_{22} x_{22}\\right)\\end{matrix}\\right]$$"
      ],
      "text/plain": [
       "<IPython.core.display.Latex object>"
      ]
     },
     "metadata": {},
     "output_type": "display_data"
    }
   ],
   "source": [
    "psym_matrix(A)"
   ]
  },
  {
   "cell_type": "markdown",
   "metadata": {
    "deletable": true,
    "editable": true
   },
   "source": [
    "### Выражаем вектор x из A:"
   ]
  },
  {
   "cell_type": "markdown",
   "metadata": {
    "deletable": true,
    "editable": true
   },
   "source": [
    "#### пришлось вручную..."
   ]
  },
  {
   "cell_type": "code",
   "execution_count": 15,
   "metadata": {
    "collapsed": false,
    "deletable": true,
    "editable": true
   },
   "outputs": [],
   "source": [
    "F = Matrix([ # How???\n",
    "    [ D1[0,0]*C1[0,0]+D2[0,0]*C2[0,0], D1[1,0]*C1[0,0]+D2[1,0]*C2[0,0], D1[0,0]*C1[0,1]+D2[0,0]*C2[0,1], D1[1,0]*C1[0,1]+D2[1,0]*C2[0,1]],\n",
    "    [ D1[0,0]*C1[0,0]+D2[0,1]*C2[0,0], D1[1,1]*C1[0,0]+D2[1,1]*C2[0,0], D1[0,1]*C1[0,1]+D2[0,1]*C2[0,1], D1[1,1]*C1[0,1]+D2[1,1]*C2[0,1]],\n",
    "    [ D1[0,1]*C1[1,0]+D2[0,0]*C2[1,0], D1[1,0]*C1[1,0]+D2[1,0]*C2[1,0], D1[0,0]*C1[1,1]+D2[0,0]*C2[1,1], D1[1,0]*C1[1,1]+D2[1,0]*C2[1,1]],\n",
    "    [ D1[0,1]*C1[1,0]+D2[0,1]*C2[1,0], D1[1,1]*C1[1,0]+D2[1,1]*C2[1,0], D1[0,1]*C1[1,1]+D2[0,1]*C2[1,1], D1[1,1]*C1[1,1]+D2[1,1]*C2[1,1]]\n",
    "])"
   ]
  },
  {
   "cell_type": "code",
   "execution_count": 16,
   "metadata": {
    "collapsed": false,
    "deletable": true,
    "editable": true
   },
   "outputs": [
    {
     "data": {
      "text/latex": [
       "$$F=\\left[\\begin{matrix}c^1_{11} d^1_{11} + c^2_{11} d^2_{11} & c^1_{11} d^1_{21} + c^2_{11} d^2_{21} & c^1_{12} d^1_{11} + c^2_{12} d^2_{11} & c^1_{12} d^1_{21} + c^2_{12} d^2_{21}\\\\c^1_{11} d^1_{11} + c^2_{11} d^2_{12} & c^1_{11} d^1_{22} + c^2_{11} d^2_{22} & c^1_{12} d^1_{12} + c^2_{12} d^2_{12} & c^1_{12} d^1_{22} + c^2_{12} d^2_{22}\\\\c^1_{21} d^1_{12} + c^2_{21} d^2_{11} & c^1_{21} d^1_{21} + c^2_{21} d^2_{21} & c^1_{22} d^1_{11} + c^2_{22} d^2_{11} & c^1_{22} d^1_{21} + c^2_{22} d^2_{21}\\\\c^1_{21} d^1_{12} + c^2_{21} d^2_{12} & c^1_{21} d^1_{22} + c^2_{21} d^2_{22} & c^1_{22} d^1_{12} + c^2_{22} d^2_{12} & c^1_{22} d^1_{22} + c^2_{22} d^2_{22}\\end{matrix}\\right]$$"
      ],
      "text/plain": [
       "<IPython.core.display.Latex object>"
      ]
     },
     "metadata": {},
     "output_type": "display_data"
    }
   ],
   "source": [
    "psym_matrix(F,intro=\"F=\")"
   ]
  },
  {
   "cell_type": "code",
   "execution_count": 17,
   "metadata": {
    "collapsed": false,
    "deletable": true,
    "editable": true
   },
   "outputs": [
    {
     "data": {
      "text/latex": [
       "$$\\left[\\begin{matrix}f_{11} & f_{12} & f_{13} & f_{14}\\\\f_{21} & f_{22} & f_{23} & f_{24}\\\\f_{31} & f_{32} & f_{33} & f_{34}\\\\f_{41} & f_{42} & f_{43} & f_{44}\\end{matrix}\\right]\\left[\\begin{matrix}x_{11}\\\\x_{12}\\\\x_{21}\\\\x_{22}\\end{matrix}\\right]=\\left[\\begin{matrix}b_{11}\\\\b_{12}\\\\b_{21}\\\\b_{22}\\end{matrix}\\right]$$"
      ],
      "text/plain": [
       "<IPython.core.display.Latex object>"
      ]
     },
     "metadata": {},
     "output_type": "display_data"
    }
   ],
   "source": [
    "psym_matrix(X.reshape(4, 1),\n",
    "            ending=\"=\"+psym_matrix(B.reshape(4, 1), \n",
    "                                   row=True), \n",
    "            intro=psym_matrix(crearMatrix(\"f\",shape=(4,4)),\n",
    "                              row=True))"
   ]
  },
  {
   "cell_type": "markdown",
   "metadata": {},
   "source": [
    "## Разложение"
   ]
  },
  {
   "cell_type": "markdown",
   "metadata": {
    "deletable": true,
    "editable": true
   },
   "source": [
    "### $$ \\exists R,T: R_{4x4}T_{4x4}X_{4x1}=B_{4x1}$$"
   ]
  },
  {
   "cell_type": "code",
   "execution_count": 21,
   "metadata": {
    "collapsed": false,
    "deletable": true,
    "editable": true
   },
   "outputs": [],
   "source": [
    "R1 = Matrix([ # How???\n",
    "    [ C1[0,0], 0     , C1[0,1], 0     ,],\n",
    "    [ 0     , C1[0,0], 0     , C1[0,1],],\n",
    "    [ C1[1,0], 0     , C1[1,1], 0     ,],\n",
    "    [ 0     , C1[1,0], 0     , C1[1,1],]\n",
    "])\n",
    "T1 = Matrix([ # How???\n",
    "    [D1[0,0],D1[1,0],   0  , 0    ],\n",
    "    [D1[0,1],D1[1,1],   0  , 0    ],\n",
    "    [ 0    , 0    ,D1[0,0],D1[1,0]],\n",
    "    [ 0    , 0    ,D1[0,1],D1[1,1]]\n",
    "])\n",
    "R2 = Matrix([ # How???\n",
    "    [ C2[0,0], 0     , C2[0,1], 0     ,],\n",
    "    [ 0     , C2[0,0], 0     , C2[0,1],],\n",
    "    [ C2[1,0], 0     , C2[1,1], 0     ,],\n",
    "    [ 0     , C2[1,0], 0     , C2[1,1],]\n",
    "])\n",
    "T2 = Matrix([ # How???\n",
    "    [D2[0,0],D2[1,0],   0  , 0    ],\n",
    "    [D2[0,1],D2[1,1],   0  , 0    ],\n",
    "    [ 0    , 0    ,D2[0,0],D2[1,0]],\n",
    "    [ 0    , 0    ,D2[0,1],D2[1,1]]\n",
    "])"
   ]
  },
  {
   "cell_type": "code",
   "execution_count": 25,
   "metadata": {
    "collapsed": false
   },
   "outputs": [
    {
     "data": {
      "text/latex": [
       "$$\\left[\\begin{matrix}c^1_{11} & 0 & c^1_{12} & 0\\\\0 & c^1_{11} & 0 & c^1_{12}\\\\c^1_{21} & 0 & c^1_{22} & 0\\\\0 & c^1_{21} & 0 & c^1_{22}\\end{matrix}\\right]\\left[\\begin{matrix}d^1_{11} & d^1_{21} & 0 & 0\\\\d^1_{12} & d^1_{22} & 0 & 0\\\\0 & 0 & d^1_{11} & d^1_{21}\\\\0 & 0 & d^1_{12} & d^1_{22}\\end{matrix}\\right]+\\left[\\begin{matrix}c^2_{11} & 0 & c^2_{12} & 0\\\\0 & c^2_{11} & 0 & c^2_{12}\\\\c^2_{21} & 0 & c^2_{22} & 0\\\\0 & c^2_{21} & 0 & c^2_{22}\\end{matrix}\\right]\\left[\\begin{matrix}d^2_{11} & d^2_{21} & 0 & 0\\\\d^2_{12} & d^2_{22} & 0 & 0\\\\0 & 0 & d^2_{11} & d^2_{21}\\\\0 & 0 & d^2_{12} & d^2_{22}\\end{matrix}\\right]$$"
      ],
      "text/plain": [
       "<IPython.core.display.Latex object>"
      ]
     },
     "metadata": {},
     "output_type": "display_data"
    }
   ],
   "source": [
    "psym_matrix(T1, \n",
    "            intro=psym_matrix(R1,row=True),\n",
    "            ending=\"+\"+psym_matrix(T2, row=True,\n",
    "                                   intro=psym_matrix(R2,row=True))\n",
    "           )"
   ]
  },
  {
   "cell_type": "code",
   "execution_count": 26,
   "metadata": {
    "collapsed": false
   },
   "outputs": [
    {
     "data": {
      "text/latex": [
       "$$\\left[\\begin{matrix}c^1_{11} d^1_{11} & c^1_{11} d^1_{21} & c^1_{12} d^1_{11} & c^1_{12} d^1_{21}\\\\c^1_{11} d^1_{12} & c^1_{11} d^1_{22} & c^1_{12} d^1_{12} & c^1_{12} d^1_{22}\\\\c^1_{21} d^1_{11} & c^1_{21} d^1_{21} & c^1_{22} d^1_{11} & c^1_{22} d^1_{21}\\\\c^1_{21} d^1_{12} & c^1_{21} d^1_{22} & c^1_{22} d^1_{12} & c^1_{22} d^1_{22}\\end{matrix}\\right]+\\left[\\begin{matrix}c^2_{11} d^2_{11} & c^2_{11} d^2_{21} & c^2_{12} d^2_{11} & c^2_{12} d^2_{21}\\\\c^2_{11} d^2_{12} & c^2_{11} d^2_{22} & c^2_{12} d^2_{12} & c^2_{12} d^2_{22}\\\\c^2_{21} d^2_{11} & c^2_{21} d^2_{21} & c^2_{22} d^2_{11} & c^2_{22} d^2_{21}\\\\c^2_{21} d^2_{12} & c^2_{21} d^2_{22} & c^2_{22} d^2_{12} & c^2_{22} d^2_{22}\\end{matrix}\\right]$$"
      ],
      "text/plain": [
       "<IPython.core.display.Latex object>"
      ]
     },
     "metadata": {},
     "output_type": "display_data"
    }
   ],
   "source": [
    "psym_matrix(R1*T1,\n",
    "           ending=\"+\"+psym_matrix(R2*T2,row=1))"
   ]
  },
  {
   "cell_type": "code",
   "execution_count": 27,
   "metadata": {
    "collapsed": false
   },
   "outputs": [
    {
     "data": {
      "text/latex": [
       "$$\\left[\\begin{matrix}c^1_{11} d^1_{11} + c^2_{11} d^2_{11} & c^1_{11} d^1_{21} + c^2_{11} d^2_{21} & c^1_{12} d^1_{11} + c^2_{12} d^2_{11} & c^1_{12} d^1_{21} + c^2_{12} d^2_{21}\\\\c^1_{11} d^1_{12} + c^2_{11} d^2_{12} & c^1_{11} d^1_{22} + c^2_{11} d^2_{22} & c^1_{12} d^1_{12} + c^2_{12} d^2_{12} & c^1_{12} d^1_{22} + c^2_{12} d^2_{22}\\\\c^1_{21} d^1_{11} + c^2_{21} d^2_{11} & c^1_{21} d^1_{21} + c^2_{21} d^2_{21} & c^1_{22} d^1_{11} + c^2_{22} d^2_{11} & c^1_{22} d^1_{21} + c^2_{22} d^2_{21}\\\\c^1_{21} d^1_{12} + c^2_{21} d^2_{12} & c^1_{21} d^1_{22} + c^2_{21} d^2_{22} & c^1_{22} d^1_{12} + c^2_{22} d^2_{12} & c^1_{22} d^1_{22} + c^2_{22} d^2_{22}\\end{matrix}\\right]$$"
      ],
      "text/plain": [
       "<IPython.core.display.Latex object>"
      ]
     },
     "metadata": {},
     "output_type": "display_data"
    }
   ],
   "source": [
    "psym_matrix(R1*T1+R2*T2)"
   ]
  },
  {
   "cell_type": "code",
   "execution_count": 28,
   "metadata": {
    "collapsed": false
   },
   "outputs": [
    {
     "data": {
      "text/latex": [
       "$$\\left[\\begin{matrix}c^1_{11} d^1_{11} & c^1_{11} d^1_{21} & c^1_{12} d^1_{11} & c^1_{12} d^1_{21}\\\\c^1_{11} d^1_{12} & c^1_{11} d^1_{22} & c^1_{12} d^1_{12} & c^1_{12} d^1_{22}\\\\c^1_{21} d^1_{11} & c^1_{21} d^1_{21} & c^1_{22} d^1_{11} & c^1_{22} d^1_{21}\\\\c^1_{21} d^1_{12} & c^1_{21} d^1_{22} & c^1_{22} d^1_{12} & c^1_{22} d^1_{22}\\end{matrix}\\right]$$"
      ],
      "text/plain": [
       "<IPython.core.display.Latex object>"
      ]
     },
     "metadata": {},
     "output_type": "display_data"
    }
   ],
   "source": []
  },
  {
   "cell_type": "markdown",
   "metadata": {},
   "source": [
    "## А что если... $$ X_{1x4}R^{'} _{4x4}T^{'} _{4x4}=B_{1x4}$$"
   ]
  },
  {
   "cell_type": "code",
   "execution_count": 31,
   "metadata": {
    "collapsed": false
   },
   "outputs": [
    {
     "data": {
      "text/latex": [
       "$$X=\\left[\\begin{matrix}x_{11} & x_{12}\\\\x_{21} & x_{22}\\end{matrix}\\right]$$"
      ],
      "text/plain": [
       "<IPython.core.display.Latex object>"
      ]
     },
     "metadata": {},
     "output_type": "display_data"
    },
    {
     "data": {
      "text/latex": [
       "$$B=\\left[\\begin{matrix}b_{11} & b_{12}\\\\b_{21} & b_{22}\\end{matrix}\\right]$$"
      ],
      "text/plain": [
       "<IPython.core.display.Latex object>"
      ]
     },
     "metadata": {},
     "output_type": "display_data"
    },
    {
     "data": {
      "text/latex": [
       "$$D=\\left[\\begin{matrix}b_{11} & b_{12}\\\\b_{21} & b_{22}\\end{matrix}\\right]$$"
      ],
      "text/plain": [
       "<IPython.core.display.Latex object>"
      ]
     },
     "metadata": {},
     "output_type": "display_data"
    },
    {
     "data": {
      "text/latex": [
       "$$C=\\left[\\begin{matrix}c_{11} & c_{12}\\\\c_{21} & c_{22}\\end{matrix}\\right]$$"
      ],
      "text/plain": [
       "<IPython.core.display.Latex object>"
      ]
     },
     "metadata": {},
     "output_type": "display_data"
    }
   ],
   "source": [
    "X = crearMatrix(\"x\")\n",
    "B = crearMatrix(\"b\")\n",
    "\n",
    "D= crearMatrix(\"d\")\n",
    "C= crearMatrix(\"c\")\n",
    "\n",
    "psym_matrix(X, intro=\"X=\")\n",
    "psym_matrix(B, intro=\"B=\")\n",
    "psym_matrix(B, intro=\"D=\")\n",
    "psym_matrix(C, intro=\"C=\")"
   ]
  },
  {
   "cell_type": "code",
   "execution_count": 33,
   "metadata": {
    "collapsed": false
   },
   "outputs": [
    {
     "data": {
      "text/latex": [
       "$$\\left[\\begin{matrix}d_{11} \\left(c_{11} x_{11} + c_{12} x_{21}\\right) + d_{21} \\left(c_{11} x_{12} + c_{12} x_{22}\\right)\\\\d_{12} \\left(c_{11} x_{11} + c_{12} x_{21}\\right) + d_{22} \\left(c_{11} x_{12} + c_{12} x_{22}\\right)\\\\d_{11} \\left(c_{21} x_{11} + c_{22} x_{21}\\right) + d_{21} \\left(c_{21} x_{12} + c_{22} x_{22}\\right)\\\\d_{12} \\left(c_{21} x_{11} + c_{22} x_{21}\\right) + d_{22} \\left(c_{21} x_{12} + c_{22} x_{22}\\right)\\end{matrix}\\right]=\\left[\\begin{matrix}b_{11}\\\\b_{12}\\\\b_{21}\\\\b_{22}\\end{matrix}\\right]$$"
      ],
      "text/plain": [
       "<IPython.core.display.Latex object>"
      ]
     },
     "metadata": {},
     "output_type": "display_data"
    }
   ],
   "source": [
    "print(\"Для удобства транспонируем\")\n",
    "psym_matrix((C*X*D).reshape(4, 1),\n",
    "            ending=\"=\"+ psym_matrix(B.reshape(4, 1),row=1))"
   ]
  },
  {
   "cell_type": "code",
   "execution_count": 40,
   "metadata": {
    "collapsed": false
   },
   "outputs": [
    {
     "data": {
      "text/latex": [
       "$$\\left[\\begin{matrix}x_{11} & x_{12} & x_{21} & x_{22}\\end{matrix}\\right]\\left[\\begin{matrix}c_{11} & 0 & c_{21} & 0\\\\0 & c_{11} & 0 & c_{21}\\\\c_{12} & 0 & c_{22} & 0\\\\0 & c_{12} & 0 & c_{22}\\end{matrix}\\right]\\left[\\begin{matrix}d_{11} & d_{12} & 0 & 0\\\\d_{21} & d_{22} & 0 & 0\\\\0 & 0 & d_{11} & d_{12}\\\\0 & 0 & d_{21} & d_{22}\\end{matrix}\\right]=\\left[\\begin{matrix}b_{11} & b_{12} & b_{21} & b_{22}\\end{matrix}\\right]$$"
      ],
      "text/plain": [
       "<IPython.core.display.Latex object>"
      ]
     },
     "metadata": {},
     "output_type": "display_data"
    }
   ],
   "source": [
    "R_ = Matrix([ # How???\n",
    "    [ C[0,0], 0     , C[1,0], 0     ,],\n",
    "    [ 0     , C[0,0], 0     , C[1,0],],\n",
    "    [ C[0,1], 0     , C[1,1], 0     ,],\n",
    "    [ 0     , C[0,1], 0     , C[1,1],]\n",
    "])\n",
    "T_ = Matrix([ # How???\n",
    "    [D[0,0],D[0,1],   0  , 0    ],\n",
    "    [D[1,0],D[1,1],   0  , 0    ],\n",
    "    [ 0    , 0    ,D[0,0],D[0,1]],\n",
    "    [ 0    , 0    ,D[1,0],D[1,1]]\n",
    "])\n",
    "psym_matrix(T_,\n",
    "           intro=psym_matrix(X.reshape(1,4),row=1)+psym_matrix(R_,row=1),\n",
    "           ending=\"=\"+psym_matrix(B.reshape(1,4),row=1))"
   ]
  },
  {
   "cell_type": "code",
   "execution_count": 38,
   "metadata": {
    "collapsed": false
   },
   "outputs": [
    {
     "data": {
      "text/latex": [
       "$$\\left[\\begin{matrix}d_{11} \\left(c_{11} x_{11} + c_{12} x_{21}\\right) + d_{21} \\left(c_{11} x_{12} + c_{12} x_{22}\\right)\\\\d_{12} \\left(c_{11} x_{11} + c_{12} x_{21}\\right) + d_{22} \\left(c_{11} x_{12} + c_{12} x_{22}\\right)\\\\d_{11} \\left(c_{21} x_{11} + c_{22} x_{21}\\right) + d_{21} \\left(c_{21} x_{12} + c_{22} x_{22}\\right)\\\\d_{12} \\left(c_{21} x_{11} + c_{22} x_{21}\\right) + d_{22} \\left(c_{21} x_{12} + c_{22} x_{22}\\right)\\end{matrix}\\right]$$"
      ],
      "text/plain": [
       "<IPython.core.display.Latex object>"
      ]
     },
     "metadata": {},
     "output_type": "display_data"
    }
   ],
   "source": [
    "psym_matrix((X.reshape(1, 4)*R_*T_).reshape(4, 1))"
   ]
  },
  {
   "cell_type": "markdown",
   "metadata": {},
   "source": [
    "## Заметим, что: $$ R^{'},T^{'} = R^TT^T $$"
   ]
  },
  {
   "cell_type": "code",
   "execution_count": null,
   "metadata": {
    "collapsed": true
   },
   "outputs": [],
   "source": []
  }
 ],
 "metadata": {
  "kernelspec": {
   "display_name": "Python 3",
   "language": "python",
   "name": "python3"
  },
  "language_info": {
   "codemirror_mode": {
    "name": "ipython",
    "version": 3
   },
   "file_extension": ".py",
   "mimetype": "text/x-python",
   "name": "python",
   "nbconvert_exporter": "python",
   "pygments_lexer": "ipython3",
   "version": "3.5.3"
  }
 },
 "nbformat": 4,
 "nbformat_minor": 2
}
