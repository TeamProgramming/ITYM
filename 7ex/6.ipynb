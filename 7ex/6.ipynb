{
 "cells": [
  {
   "cell_type": "code",
   "execution_count": 9,
   "metadata": {
    "collapsed": true,
    "deletable": true,
    "editable": true
   },
   "outputs": [],
   "source": [
    "import numpy as np\n",
    "from numpy.linalg import *\n",
    "rg = matrix_rank\n",
    "from IPython.display import display, Math, Latex, Markdown\n",
    "\n",
    "from sympy import *\n",
    "from sympy import Matrix, solve_linear_system"
   ]
  },
  {
   "cell_type": "code",
   "execution_count": 1,
   "metadata": {
    "collapsed": true,
    "deletable": true,
    "editable": true
   },
   "outputs": [],
   "source": [
    "pr = lambda s: display(Markdown('$'+str(latex(s))+'$'))\n",
    "def psym_matrix(a, intro='',ending='',row=False):\n",
    "    try:\n",
    "        if row:\n",
    "                return(intro+str(latex(a))+ending)\n",
    "        else:\n",
    "                display(Latex(\"$$\"+intro+str(latex(a))+ending+\"$$\"))\n",
    "    except TypeError:\n",
    "        display(latex(a)) #TODO MAY BY...\n",
    "pr = lambda s: display(Markdown('$'+str(latex(s))+'$'))\n",
    "\n",
    "def pmatrix(a, intro='',ending='',row=False):\n",
    "    if len(a.shape) > 2:\n",
    "        raise ValueError('pmatrix can at most display two dimensions')\n",
    "    lines = str(a).replace('[', '').replace(']', '').splitlines()\n",
    "    rv = [r'\\begin{pmatrix}']\n",
    "    rv += ['  ' + ' & '.join(l.split()) + r'\\\\' for l in lines]\n",
    "    rv +=  [r'\\end{pmatrix}']\n",
    "    if row:\n",
    "        return(intro+'\\n'.join(rv)+ending)\n",
    "    else:\n",
    "        display(Latex('$$'+intro+'\\n'.join(rv)+ending+'$$'))\n",
    "def crearMatrix(name,shape=(2,2)):\n",
    "    X = []\n",
    "    for i in range(shape[0]):\n",
    "        row = []\n",
    "        for j in range(shape[1]):\n",
    "            row.append(Symbol(name+'_{'+str(i*10+j+11)+'}'))\n",
    "        X.append(row)\n",
    "    return Matrix(X)\n",
    "from re import sub\n",
    "def matrix_to_word(A):\n",
    "    replaced = sub(r\"begin{matrix}\", r\"(■( \", psym_matrix(A,row=1))\n",
    "    replaced = sub(r\"{\", r\"\", replaced)\n",
    "    replaced = sub(r\"}\", r\"\", replaced)\n",
    "    replaced = sub(r\"\\\\\\\\\\\\\\\\\", r\" @ \", replaced)\n",
    "    replaced = sub(r\"\\\\\\\\\", r\" @ \", replaced)\n",
    "    replaced = sub(r\"[\\[\\]]\", r\"\", replaced)\n",
    "    replaced = sub(r\"left\", r\"\", replaced)\n",
    "    replaced = sub(r\".endmatrix.right\", r\" ))\", replaced)\n",
    "    replaced = sub(r\"\\\\\", r\"\", replaced)\n",
    "    print(replaced )"
   ]
  },
  {
   "cell_type": "code",
   "execution_count": 11,
   "metadata": {
    "collapsed": false,
    "deletable": true,
    "editable": true
   },
   "outputs": [
    {
     "data": {
      "text/latex": [
       "$$D^1=\\left[\\begin{matrix}d^1_{11} & d^1_{12}\\\\d^1_{21} & d^1_{22}\\end{matrix}\\right]$$"
      ],
      "text/plain": [
       "<IPython.core.display.Latex object>"
      ]
     },
     "metadata": {},
     "output_type": "display_data"
    },
    {
     "data": {
      "text/latex": [
       "$$C^1=\\left[\\begin{matrix}c^1_{11} & c^1_{12}\\\\c^1_{21} & c^1_{22}\\end{matrix}\\right]$$"
      ],
      "text/plain": [
       "<IPython.core.display.Latex object>"
      ]
     },
     "metadata": {},
     "output_type": "display_data"
    },
    {
     "data": {
      "text/latex": [
       "$$D^2=\\left[\\begin{matrix}d^2_{11} & d^2_{12}\\\\d^2_{21} & d^2_{22}\\end{matrix}\\right]$$"
      ],
      "text/plain": [
       "<IPython.core.display.Latex object>"
      ]
     },
     "metadata": {},
     "output_type": "display_data"
    },
    {
     "data": {
      "text/latex": [
       "$$C^2=\\left[\\begin{matrix}c^2_{11} & c^2_{12}\\\\c^2_{21} & c^2_{22}\\end{matrix}\\right]$$"
      ],
      "text/plain": [
       "<IPython.core.display.Latex object>"
      ]
     },
     "metadata": {},
     "output_type": "display_data"
    }
   ],
   "source": [
    "D1= crearMatrix(\"d^1\")\n",
    "C1= crearMatrix(\"c^1\")\n",
    "D2= crearMatrix(\"d^2\")\n",
    "C2= crearMatrix(\"c^2\")\n",
    "\n",
    "\n",
    "psym_matrix(D1, intro=\"D^1=\")\n",
    "psym_matrix(C1, intro=\"C^1=\")\n",
    "psym_matrix(D2, intro=\"D^2=\")\n",
    "psym_matrix(C2, intro=\"C^2=\")"
   ]
  },
  {
   "cell_type": "code",
   "execution_count": 13,
   "metadata": {
    "collapsed": false,
    "deletable": true,
    "editable": true
   },
   "outputs": [],
   "source": [
    "D1 = Matrix([[1,1],\n",
    "             [1,2]])\n",
    "C1 = Matrix([[2,1],\n",
    "             [1,0]])\n",
    "D2 = Matrix([[1,-1],\n",
    "             [0,1]])\n",
    "C2 = Matrix([[1,1],\n",
    "             [0,1]])"
   ]
  },
  {
   "cell_type": "code",
   "execution_count": 25,
   "metadata": {
    "collapsed": false,
    "deletable": true,
    "editable": true
   },
   "outputs": [],
   "source": [
    "R1 =( Matrix([ # How???\n",
    "    [ C1[0,0], 0     , C1[0,1], 0     ,],\n",
    "    [ 0     , C1[0,0], 0     , C1[0,1],],\n",
    "    [ C1[1,0], 0     , C1[1,1], 0     ,],\n",
    "    [ 0     , C1[1,0], 0     , C1[1,1],]\n",
    "])).T\n",
    "T1 = Matrix([ # How???\n",
    "    [D1[0,0],D1[0,1],   0  , 0    ],\n",
    "    [D1[1,0],D1[1,1],   0  , 0    ],\n",
    "    [ 0    , 0    ,D1[0,0],D1[0,1]],\n",
    "    [ 0    , 0    ,D1[1,0],D1[1,1]]\n",
    "])\n",
    "R2 = (Matrix([ # How???\n",
    "    [ C2[0,0], 0     , C2[0,1], 0     ,],\n",
    "    [ 0     , C2[0,0], 0     , C2[0,1],],\n",
    "    [ C2[1,0], 0     , C2[1,1], 0     ,],\n",
    "    [ 0     , C2[1,0], 0     , C2[1,1],]\n",
    "])).T\n",
    "T2 = (Matrix([ # How???\n",
    "    [D2[0,0],D2[0,1],   0  , 0    ],\n",
    "    [D2[1,0],D2[1,1],   0  , 0    ],\n",
    "    [ 0    , 0    ,D2[0,0],D2[0,1]],\n",
    "    [ 0    , 0    ,D2[1,0],D2[1,1]]\n",
    "])).T"
   ]
  },
  {
   "cell_type": "code",
   "execution_count": 26,
   "metadata": {
    "collapsed": false,
    "deletable": true,
    "editable": true
   },
   "outputs": [
    {
     "data": {
      "text/latex": [
       "$$\\left[\\begin{matrix}2 & 0 & 1 & 0\\\\0 & 2 & 0 & 1\\\\1 & 0 & 0 & 0\\\\0 & 1 & 0 & 0\\end{matrix}\\right]\\left[\\begin{matrix}1 & 1 & 0 & 0\\\\1 & 2 & 0 & 0\\\\0 & 0 & 1 & 1\\\\0 & 0 & 1 & 2\\end{matrix}\\right]$$"
      ],
      "text/plain": [
       "<IPython.core.display.Latex object>"
      ]
     },
     "metadata": {},
     "output_type": "display_data"
    },
    {
     "data": {
      "text/latex": [
       "$$\\left[\\begin{matrix}1 & 0 & 0 & 0\\\\0 & 1 & 0 & 0\\\\1 & 0 & 1 & 0\\\\0 & 1 & 0 & 1\\end{matrix}\\right]\\left[\\begin{matrix}1 & -1 & 0 & 0\\\\0 & 1 & 0 & 0\\\\0 & 0 & 1 & -1\\\\0 & 0 & 0 & 1\\end{matrix}\\right]$$"
      ],
      "text/plain": [
       "<IPython.core.display.Latex object>"
      ]
     },
     "metadata": {},
     "output_type": "display_data"
    }
   ],
   "source": [
    "psym_matrix(R1, ending=psym_matrix(T1,row=1))\n",
    "psym_matrix(R2, ending=psym_matrix(T2,row=1))"
   ]
  },
  {
   "cell_type": "code",
   "execution_count": 27,
   "metadata": {
    "collapsed": false,
    "deletable": true,
    "editable": true
   },
   "outputs": [
    {
     "data": {
      "text/latex": [
       "$$\\left[\\begin{matrix}3 & 1 & 1 & 1\\\\2 & 5 & 1 & 2\\\\2 & 0 & 1 & -1\\\\1 & 3 & 0 & 1\\end{matrix}\\right]$$"
      ],
      "text/plain": [
       "<IPython.core.display.Latex object>"
      ]
     },
     "metadata": {},
     "output_type": "display_data"
    }
   ],
   "source": [
    "psym_matrix(R1*T1+R2*T2)"
   ]
  },
  {
   "cell_type": "code",
   "execution_count": 24,
   "metadata": {
    "collapsed": false,
    "deletable": true,
    "editable": true
   },
   "outputs": [
    {
     "data": {
      "text/latex": [
       "$$\\left[\\begin{matrix}g_{11} & g_{21}\\\\g_{12} & g_{22}\\end{matrix}\\right]$$"
      ],
      "text/plain": [
       "<IPython.core.display.Latex object>"
      ]
     },
     "metadata": {},
     "output_type": "display_data"
    }
   ],
   "source": [
    "psym_matrix(crearMatrix('g').T)"
   ]
  },
  {
   "cell_type": "code",
   "execution_count": null,
   "metadata": {
    "collapsed": true,
    "deletable": true,
    "editable": true
   },
   "outputs": [],
   "source": []
  }
 ],
 "metadata": {
  "kernelspec": {
   "display_name": "Python 3",
   "language": "python",
   "name": "python3"
  },
  "language_info": {
   "codemirror_mode": {
    "name": "ipython",
    "version": 3
   },
   "file_extension": ".py",
   "mimetype": "text/x-python",
   "name": "python",
   "nbconvert_exporter": "python",
   "pygments_lexer": "ipython3",
   "version": "3.5.3"
  }
 },
 "nbformat": 4,
 "nbformat_minor": 2
}
