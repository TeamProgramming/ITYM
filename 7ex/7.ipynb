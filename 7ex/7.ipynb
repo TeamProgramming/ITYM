{
 "cells": [
  {
   "cell_type": "markdown",
   "metadata": {
    "deletable": true,
    "editable": true
   },
   "source": [
    "## Подготовка:"
   ]
  },
  {
   "cell_type": "code",
   "execution_count": 1,
   "metadata": {
    "collapsed": true,
    "deletable": true,
    "editable": true
   },
   "outputs": [],
   "source": [
    "import numpy as np\n",
    "from numpy.linalg import *\n",
    "rg = matrix_rank\n",
    "from IPython.display import display, Math, Latex, Markdown\n",
    "\n",
    "from sympy import *\n",
    "from sympy import Matrix, solve_linear_system\n",
    "\n",
    "pr = lambda s: display(Markdown('$'+str(latex(s))+'$'))\n",
    "\n",
    "def pmatrix(a, intro='',ending='',row=False):\n",
    "    try:\n",
    "        if len(a.shape) > 2:\n",
    "            raise ValueError('pmatrix can at most display two dimensions')\n",
    "        lines = str(a).replace('[', '').replace(']', '').splitlines()\n",
    "        rv = [r'\\begin{pmatrix}']\n",
    "        rv += ['  ' + ' & '.join(l.split()) + r'\\\\' for l in lines]\n",
    "        rv +=  [r'\\end{pmatrix}']\n",
    "        if row:\n",
    "            return(intro+'\\n'.join(rv)+ending)\n",
    "        else:\n",
    "            display(Latex('$$'+intro+'\\n'.join(rv)+ending+'$$'))\n",
    "    except AttributeError:\n",
    "        display(Latex(\"$$\"+intro+str(a)+\"$$\"))\n",
    "def crearMatrix(name,shape=(2,2)): #костыль\n",
    "    #A = np.fromfunction(lambda i,j: i*10+j+11, shape)#np.empty(shape) \n",
    "    return np.array([[Symbol(name+'_{11}'),Symbol(name+'_{12}')],\n",
    "                     [Symbol(name+'_{21}'),Symbol(name+'_{22}')]])\n"
   ]
  },
  {
   "cell_type": "markdown",
   "metadata": {},
   "source": [
    "shape = (4,4)\n",
    "X = np.empty(shape)\n",
    "for i in range(shape[0]): #X.shape[1]\n",
    "    for j in range(shape[1]):\n",
    "        X[i][j] = Symbol(\"a\"+'_{'+str(i*10+j+11)+'}')\n",
    "        #pmatrix(X[i][j], intro=\"X_{\"+str(i*10+j+11)+\"}=\")\n",
    "        ###TODO"
   ]
  },
  {
   "cell_type": "markdown",
   "metadata": {},
   "source": [
    "# 3 пункт\n",
    "## пример:\n",
    "### Дано:"
   ]
  },
  {
   "cell_type": "code",
   "execution_count": 2,
   "metadata": {
    "collapsed": false
   },
   "outputs": [
    {
     "data": {
      "text/latex": [
       "$$X=\\begin{pmatrix}\n",
       "  x_{11} & x_{12}\\\\\n",
       "  x_{21} & x_{22}\\\\\n",
       "\\end{pmatrix}$$"
      ],
      "text/plain": [
       "<IPython.core.display.Latex object>"
      ]
     },
     "metadata": {},
     "output_type": "display_data"
    }
   ],
   "source": [
    "X = crearMatrix(\"x\")\n",
    "pmatrix(X, intro=\"X=\")"
   ]
  },
  {
   "cell_type": "code",
   "execution_count": 3,
   "metadata": {
    "collapsed": true
   },
   "outputs": [],
   "source": [
    "B = np.array([[5,1],\n",
    "              [5,2]])\n",
    "\n",
    "C1 = np.array([[1,1],\n",
    "               [1,2]])\n",
    "D1 = np.array([[2,1],\n",
    "               [1,0]])\n",
    "\n",
    "C2 = np.array([[1,-1],\n",
    "               [0,1]])\n",
    "\n",
    "D2 = np.array([[1,1],\n",
    "               [0,1]])"
   ]
  },
  {
   "cell_type": "markdown",
   "metadata": {},
   "source": [
    "### Распишим  $$C^1XD^1+C^2XD^2$$"
   ]
  },
  {
   "cell_type": "code",
   "execution_count": 4,
   "metadata": {
    "collapsed": false
   },
   "outputs": [
    {
     "data": {
      "text/latex": [
       "$$\\begin{pmatrix}\n",
       "  3*x_{11} & + & x_{12} & + & x_{21} & + & x_{22} & 2*x_{11} & + & x_{12} & - & x_{22}\\\\\n",
       "  2*x_{11} & + & x_{12} & + & 5*x_{21} & + & 2*x_{22} & x_{11} & + & 3*x_{21} & + & x_{22}\\\\\n",
       "\\end{pmatrix}$$"
      ],
      "text/plain": [
       "<IPython.core.display.Latex object>"
      ]
     },
     "metadata": {},
     "output_type": "display_data"
    }
   ],
   "source": [
    "A = (C1.dot(X)).dot(D1) + (C2.dot(X)).dot(D2)\n",
    "pmatrix(A)"
   ]
  },
  {
   "cell_type": "markdown",
   "metadata": {},
   "source": [
    "### Приведём к виду Ax=b, где x,b вектора"
   ]
  },
  {
   "cell_type": "code",
   "execution_count": 5,
   "metadata": {
    "collapsed": false
   },
   "outputs": [
    {
     "data": {
      "text/latex": [
       "$$\\begin{pmatrix}\n",
       "  3 & 1 & 1 & 1\\\\\n",
       "  2 & 1 & 0 & -1\\\\\n",
       "  2 & 1 & 5 & 2\\\\\n",
       "  1 & 0 & 3 & 1\\\\\n",
       "\\end{pmatrix}\\begin{pmatrix}\n",
       "  x_{11}\\\\\n",
       "  x_{12}\\\\\n",
       "  x_{21}\\\\\n",
       "  x_{22}\\\\\n",
       "\\end{pmatrix}=\\begin{pmatrix}\n",
       "  5\\\\\n",
       "  1\\\\\n",
       "  5\\\\\n",
       "  2\\\\\n",
       "\\end{pmatrix}$$"
      ],
      "text/plain": [
       "<IPython.core.display.Latex object>"
      ]
     },
     "metadata": {},
     "output_type": "display_data"
    }
   ],
   "source": [
    "F = np.array([[3,1,1,1],\n",
    "              [2,1,0,-1],\n",
    "              [2,1,5,2],\n",
    "              [1,0,3,1]])\n",
    "pmatrix(F, ending=pmatrix(X.reshape((4, 1)),row=True)+\"=\"+pmatrix(B.reshape((4, 1)),row=True))"
   ]
  },
  {
   "cell_type": "code",
   "execution_count": 6,
   "metadata": {
    "collapsed": false
   },
   "outputs": [
    {
     "data": {
      "text/latex": [
       "$$rg(F)=\\begin{pmatrix}\n",
       "  4\\\\\n",
       "\\end{pmatrix}<=>\\exists F^{-1}$$"
      ],
      "text/plain": [
       "<IPython.core.display.Latex object>"
      ]
     },
     "metadata": {},
     "output_type": "display_data"
    }
   ],
   "source": [
    "pmatrix(rg(F), intro=r'rg(F)=', ending=\"<=>\\exists F^{-1}\") #ранг"
   ]
  },
  {
   "cell_type": "markdown",
   "metadata": {},
   "source": [
    "### Решаем это:"
   ]
  },
  {
   "cell_type": "code",
   "execution_count": 7,
   "metadata": {
    "collapsed": false
   },
   "outputs": [
    {
     "data": {
      "text/latex": [
       "$$X=\\begin{pmatrix}\n",
       "  10/11 & 9/11\\\\\n",
       "  -2/11 & 18/11\\\\\n",
       "\\end{pmatrix}$$"
      ],
      "text/plain": [
       "<IPython.core.display.Latex object>"
      ]
     },
     "metadata": {},
     "output_type": "display_data"
    }
   ],
   "source": [
    "from sympy.abc import a,b,c,d\n",
    "system = Matrix(( (3,1,1,1,5), (2,1,0,-1,1), (2,1,5,2,5),(1,0,3,1,2) ))\n",
    "x = solve_linear_system(system, a,b,c,d)\n",
    "X =np.array([[x[a],x[b]],[x[c],x[d]] ])\n",
    "pmatrix(X,intro=\"X=\")"
   ]
  },
  {
   "cell_type": "markdown",
   "metadata": {
    "collapsed": false,
    "deletable": true,
    "editable": true
   },
   "source": [
    "# 3 пункт обощение:"
   ]
  },
  {
   "cell_type": "markdown",
   "metadata": {},
   "source": [
    "## Рассмотрим $$C^1XD^1+C^2XD^2=B$$"
   ]
  },
  {
   "cell_type": "markdown",
   "metadata": {},
   "source": [
    "### Обозначения:"
   ]
  },
  {
   "cell_type": "markdown",
   "metadata": {},
   "source": [
    "#### Примечание: $$С^n,D^n,\\textbf{ где n не степень!} $$"
   ]
  },
  {
   "cell_type": "code",
   "execution_count": 8,
   "metadata": {
    "collapsed": false,
    "deletable": true,
    "editable": true
   },
   "outputs": [
    {
     "data": {
      "text/latex": [
       "$$X=\\begin{pmatrix}\n",
       "  x_{11} & x_{12}\\\\\n",
       "  x_{21} & x_{22}\\\\\n",
       "\\end{pmatrix}$$"
      ],
      "text/plain": [
       "<IPython.core.display.Latex object>"
      ]
     },
     "metadata": {},
     "output_type": "display_data"
    },
    {
     "data": {
      "text/latex": [
       "$$B=\\begin{pmatrix}\n",
       "  b_{11} & b_{12}\\\\\n",
       "  b_{21} & b_{22}\\\\\n",
       "\\end{pmatrix}$$"
      ],
      "text/plain": [
       "<IPython.core.display.Latex object>"
      ]
     },
     "metadata": {},
     "output_type": "display_data"
    },
    {
     "data": {
      "text/latex": [
       "$$D^1=\\begin{pmatrix}\n",
       "  d^1_{11} & d^1_{12}\\\\\n",
       "  d^1_{21} & d^1_{22}\\\\\n",
       "\\end{pmatrix}$$"
      ],
      "text/plain": [
       "<IPython.core.display.Latex object>"
      ]
     },
     "metadata": {},
     "output_type": "display_data"
    },
    {
     "data": {
      "text/latex": [
       "$$C^1=\\begin{pmatrix}\n",
       "  c^1_{11} & c^1_{12}\\\\\n",
       "  c^1_{21} & c^1_{22}\\\\\n",
       "\\end{pmatrix}$$"
      ],
      "text/plain": [
       "<IPython.core.display.Latex object>"
      ]
     },
     "metadata": {},
     "output_type": "display_data"
    },
    {
     "data": {
      "text/latex": [
       "$$D^2=\\begin{pmatrix}\n",
       "  d^2_{11} & d^2_{12}\\\\\n",
       "  d^2_{21} & d^2_{22}\\\\\n",
       "\\end{pmatrix}$$"
      ],
      "text/plain": [
       "<IPython.core.display.Latex object>"
      ]
     },
     "metadata": {},
     "output_type": "display_data"
    },
    {
     "data": {
      "text/latex": [
       "$$C^2=\\begin{pmatrix}\n",
       "  c^2_{11} & c^2_{12}\\\\\n",
       "  c^2_{21} & c^2_{22}\\\\\n",
       "\\end{pmatrix}$$"
      ],
      "text/plain": [
       "<IPython.core.display.Latex object>"
      ]
     },
     "metadata": {},
     "output_type": "display_data"
    }
   ],
   "source": [
    "X = crearMatrix(\"x\")\n",
    "B = crearMatrix(\"b\")\n",
    "\n",
    "D1= crearMatrix(\"d^1\")\n",
    "C1= crearMatrix(\"c^1\")\n",
    "D2= crearMatrix(\"d^2\")\n",
    "C2= crearMatrix(\"c^2\")\n",
    "\n",
    "pmatrix(X, intro=\"X=\")\n",
    "pmatrix(B, intro=\"B=\")\n",
    "\n",
    "pmatrix(D1, intro=\"D^1=\")\n",
    "pmatrix(C1, intro=\"C^1=\")\n",
    "pmatrix(D2, intro=\"D^2=\")\n",
    "pmatrix(C2, intro=\"C^2=\")"
   ]
  },
  {
   "cell_type": "markdown",
   "metadata": {},
   "source": [
    "### Символьно посчитаем выражение\n",
    "$$A = C^1XD^1+C^2XD^2$$"
   ]
  },
  {
   "cell_type": "code",
   "execution_count": 9,
   "metadata": {
    "collapsed": false,
    "deletable": true,
    "editable": true
   },
   "outputs": [
    {
     "data": {
      "text/latex": [
       "$$A=\\begin{pmatrix}\n",
       "  a_{11} & a_{12}\\\\\n",
       "  a_{21} & a_{22}\\\\\n",
       "\\end{pmatrix}$$"
      ],
      "text/plain": [
       "<IPython.core.display.Latex object>"
      ]
     },
     "metadata": {},
     "output_type": "display_data"
    }
   ],
   "source": [
    "\n",
    "A = (C1.dot(X)).dot(D1) + (C2.dot(X)).dot(D2)\n",
    "pmatrix(crearMatrix(\"a\"), intro=\"A=\")"
   ]
  },
  {
   "cell_type": "code",
   "execution_count": 10,
   "metadata": {
    "collapsed": false,
    "deletable": true,
    "editable": true
   },
   "outputs": [
    {
     "data": {
      "text/latex": [
       "$$a_{11}=d^1_{11}*(c^1_{11}*x_{11} + c^1_{12}*x_{21}) + d^1_{21}*(c^1_{11}*x_{12} + c^1_{12}*x_{22}) + d^2_{11}*(c^2_{11}*x_{11} + c^2_{12}*x_{21}) + d^2_{21}*(c^2_{11}*x_{12} + c^2_{12}*x_{22})$$"
      ],
      "text/plain": [
       "<IPython.core.display.Latex object>"
      ]
     },
     "metadata": {},
     "output_type": "display_data"
    },
    {
     "data": {
      "text/latex": [
       "$$a_{12}=d^1_{12}*(c^1_{11}*x_{11} + c^1_{12}*x_{21}) + d^1_{22}*(c^1_{11}*x_{12} + c^1_{12}*x_{22}) + d^2_{12}*(c^2_{11}*x_{11} + c^2_{12}*x_{21}) + d^2_{22}*(c^2_{11}*x_{12} + c^2_{12}*x_{22})$$"
      ],
      "text/plain": [
       "<IPython.core.display.Latex object>"
      ]
     },
     "metadata": {},
     "output_type": "display_data"
    },
    {
     "data": {
      "text/latex": [
       "$$a_{21}=d^1_{11}*(c^1_{21}*x_{11} + c^1_{22}*x_{21}) + d^1_{21}*(c^1_{21}*x_{12} + c^1_{22}*x_{22}) + d^2_{11}*(c^2_{21}*x_{11} + c^2_{22}*x_{21}) + d^2_{21}*(c^2_{21}*x_{12} + c^2_{22}*x_{22})$$"
      ],
      "text/plain": [
       "<IPython.core.display.Latex object>"
      ]
     },
     "metadata": {},
     "output_type": "display_data"
    },
    {
     "data": {
      "text/latex": [
       "$$a_{22}=d^1_{12}*(c^1_{21}*x_{11} + c^1_{22}*x_{21}) + d^1_{22}*(c^1_{21}*x_{12} + c^1_{22}*x_{22}) + d^2_{12}*(c^2_{21}*x_{11} + c^2_{22}*x_{21}) + d^2_{22}*(c^2_{21}*x_{12} + c^2_{22}*x_{22})$$"
      ],
      "text/plain": [
       "<IPython.core.display.Latex object>"
      ]
     },
     "metadata": {},
     "output_type": "display_data"
    }
   ],
   "source": [
    "pmatrix(A[0][0], intro=\"a_{11}=\")\n",
    "pmatrix(A[0][1], intro=\"a_{12}=\")\n",
    "pmatrix(A[1][0], intro=\"a_{21}=\")\n",
    "pmatrix(A[1][1], intro=\"a_{22}=\")"
   ]
  },
  {
   "cell_type": "markdown",
   "metadata": {},
   "source": [
    "### Выражаем вектор x из A:"
   ]
  },
  {
   "cell_type": "markdown",
   "metadata": {},
   "source": [
    "#### пришлось вручную..."
   ]
  },
  {
   "cell_type": "code",
   "execution_count": 11,
   "metadata": {
    "collapsed": false
   },
   "outputs": [],
   "source": [
    "F = np.array([\n",
    "    [ D1[0][0]*C1[0][0]+D2[0][0]*C2[0][0], D1[1][0]*C1[0][0]+D2[1][0]*C2[0][0], D1[0][0]*C1[0][1]+D2[0][0]*C2[0][1], D1[1][0]*C1[0][1]+D2[1][0]*C2[0][1]],\n",
    "    [ D1[0][0]*C1[0][0]+D2[0][1]*C2[0][0], D1[1][1]*C1[0][0]+D2[1][1]*C2[0][0], D1[0][1]*C1[0][1]+D2[0][1]*C2[0][1], D1[1][1]*C1[0][1]+D2[1][1]*C2[0][1]],\n",
    "    [ D1[0][1]*C1[1][0]+D2[0][0]*C2[1][0], D1[1][0]*C1[1][0]+D2[1][0]*C2[1][0], D1[0][0]*C1[1][1]+D2[0][0]*C2[1][1], D1[1][0]*C1[1][1]+D2[1][0]*C2[1][1]],\n",
    "    [ D1[0][1]*C1[1][0]+D2[0][1]*C2[1][0], D1[1][1]*C1[1][0]+D2[1][1]*C2[1][0], D1[0][1]*C1[1][1]+D2[0][1]*C2[1][1], D1[1][1]*C1[1][1]+D2[1][1]*C2[1][1]]\n",
    "])"
   ]
  },
  {
   "cell_type": "code",
   "execution_count": 12,
   "metadata": {
    "collapsed": false
   },
   "outputs": [
    {
     "name": "stdout",
     "output_type": "stream",
     "text": [
      "Размерность:\n"
     ]
    },
    {
     "data": {
      "text/latex": [
       "$$(4, 4)$$"
      ],
      "text/plain": [
       "<IPython.core.display.Latex object>"
      ]
     },
     "metadata": {},
     "output_type": "display_data"
    }
   ],
   "source": [
    "print(\"Размерность:\")\n",
    "pmatrix(F.shape)"
   ]
  },
  {
   "cell_type": "code",
   "execution_count": 13,
   "metadata": {
    "collapsed": false
   },
   "outputs": [
    {
     "name": "stdout",
     "output_type": "stream",
     "text": [
      "Нет это не матрица 1х16! Просто так выводиться\n"
     ]
    },
    {
     "data": {
      "text/latex": [
       "$$F=\\begin{pmatrix}\n",
       "  c^1_{11}*d^1_{11} & + & c^2_{11}*d^2_{11}\\\\\n",
       "  c^1_{11}*d^1_{21} & + & c^2_{11}*d^2_{21}\\\\\n",
       "  c^1_{12}*d^1_{11} & + & c^2_{12}*d^2_{11}\\\\\n",
       "  c^1_{12}*d^1_{21} & + & c^2_{12}*d^2_{21}\\\\\n",
       "  c^1_{11}*d^1_{11} & + & c^2_{11}*d^2_{12}\\\\\n",
       "  c^1_{11}*d^1_{22} & + & c^2_{11}*d^2_{22}\\\\\n",
       "  c^1_{12}*d^1_{12} & + & c^2_{12}*d^2_{12}\\\\\n",
       "  c^1_{12}*d^1_{22} & + & c^2_{12}*d^2_{22}\\\\\n",
       "  c^1_{21}*d^1_{12} & + & c^2_{21}*d^2_{11}\\\\\n",
       "  c^1_{21}*d^1_{21} & + & c^2_{21}*d^2_{21}\\\\\n",
       "  c^1_{22}*d^1_{11} & + & c^2_{22}*d^2_{11}\\\\\n",
       "  c^1_{22}*d^1_{21} & + & c^2_{22}*d^2_{21}\\\\\n",
       "  c^1_{21}*d^1_{12} & + & c^2_{21}*d^2_{12}\\\\\n",
       "  c^1_{21}*d^1_{22} & + & c^2_{21}*d^2_{22}\\\\\n",
       "  c^1_{22}*d^1_{12} & + & c^2_{22}*d^2_{12}\\\\\n",
       "  c^1_{22}*d^1_{22} & + & c^2_{22}*d^2_{22}\\\\\n",
       "\\end{pmatrix}$$"
      ],
      "text/plain": [
       "<IPython.core.display.Latex object>"
      ]
     },
     "metadata": {},
     "output_type": "display_data"
    }
   ],
   "source": [
    "print(\"Нет это не матрица 1х16! Просто так выводиться\")\n",
    "pmatrix(F,intro=\"F=\")"
   ]
  },
  {
   "cell_type": "code",
   "execution_count": 14,
   "metadata": {
    "collapsed": false,
    "deletable": true,
    "editable": true
   },
   "outputs": [
    {
     "data": {
      "text/latex": [
       "$$\\begin{pmatrix}\n",
       "  f_{11} & f_{12}\\\\\n",
       "  f_{21} & f_{22}\\\\\n",
       "\\end{pmatrix}\\begin{pmatrix}\n",
       "  x_{11}\\\\\n",
       "  x_{12}\\\\\n",
       "  x_{21}\\\\\n",
       "  x_{22}\\\\\n",
       "\\end{pmatrix}=\\begin{pmatrix}\n",
       "  b_{11}\\\\\n",
       "  b_{12}\\\\\n",
       "  b_{21}\\\\\n",
       "  b_{22}\\\\\n",
       "\\end{pmatrix}$$"
      ],
      "text/plain": [
       "<IPython.core.display.Latex object>"
      ]
     },
     "metadata": {},
     "output_type": "display_data"
    }
   ],
   "source": [
    "pmatrix(X.reshape((4, 1)),ending=\"=\"+pmatrix(B.reshape((4, 1)), row=True), intro=pmatrix(crearMatrix(\"f\",shape=(4,4)),row=True))"
   ]
  }
 ],
 "metadata": {
  "kernelspec": {
   "display_name": "Python 3",
   "language": "python",
   "name": "python3"
  },
  "language_info": {
   "codemirror_mode": {
    "name": "ipython",
    "version": 3
   },
   "file_extension": ".py",
   "mimetype": "text/x-python",
   "name": "python",
   "nbconvert_exporter": "python",
   "pygments_lexer": "ipython3",
   "version": "3.5.3"
  }
 },
 "nbformat": 4,
 "nbformat_minor": 2
}
