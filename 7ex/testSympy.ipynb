{
 "cells": [
  {
   "cell_type": "code",
   "execution_count": 1,
   "metadata": {
    "collapsed": true,
    "deletable": true,
    "editable": true
   },
   "outputs": [],
   "source": [
    "import numpy as np\n",
    "from numpy.linalg import *\n",
    "rg = matrix_rank\n",
    "from IPython.display import display, Math, Latex, Markdown\n",
    "\n",
    "from sympy import *\n",
    "from sympy import Matrix, solve_linear_system"
   ]
  },
  {
   "cell_type": "code",
   "execution_count": 8,
   "metadata": {
    "collapsed": true,
    "deletable": true,
    "editable": true
   },
   "outputs": [],
   "source": [
    "pr = lambda s: display(Markdown('$'+str(latex(s))+'$'))\n",
    "def psym_matrix(a, intro='',ending='',row=False):\n",
    "    try:\n",
    "        if row:\n",
    "                return(intro+str(latex(a))+ending)\n",
    "        else:\n",
    "                display(Latex(\"$$\"+intro+str(latex(a))+ending+\"$$\"))\n",
    "    except TypeError:\n",
    "        display(latex(a)) #TODO MAY BY...\n",
    "pr = lambda s: display(Markdown('$'+str(latex(s))+'$'))\n",
    "\n",
    "def pmatrix(a, intro='',ending='',row=False):\n",
    "    if len(a.shape) > 2:\n",
    "        raise ValueError('pmatrix can at most display two dimensions')\n",
    "    lines = str(a).replace('[', '').replace(']', '').splitlines()\n",
    "    rv = [r'\\begin{pmatrix}']\n",
    "    rv += ['  ' + ' & '.join(l.split()) + r'\\\\' for l in lines]\n",
    "    rv +=  [r'\\end{pmatrix}']\n",
    "    if row:\n",
    "        return(intro+'\\n'.join(rv)+ending)\n",
    "    else:\n",
    "        display(Latex('$$'+intro+'\\n'.join(rv)+ending+'$$'))\n",
    "def crearMatrix(name,shape=(2,2)):\n",
    "    X = []\n",
    "    for i in range(shape[0]):\n",
    "        row = []\n",
    "        for j in range(shape[1]):\n",
    "            row.append(Symbol(name+'_{'+str(i*10+j+11)+'}'))\n",
    "        X.append(row)\n",
    "    return Matrix(X)"
   ]
  },
  {
   "cell_type": "code",
   "execution_count": 43,
   "metadata": {
    "collapsed": false
   },
   "outputs": [],
   "source": [
    "from re import sub\n",
    "def matrix_to_word(A):\n",
    "    replaced = sub(r\"begin{matrix}\", r\"(■( \", psym_matrix(A,row=1))\n",
    "    replaced = sub(r\"{\", r\"\", replaced)\n",
    "    replaced = sub(r\"}\", r\"\", replaced)\n",
    "    replaced = sub(r\"\\\\\\\\\\\\\\\\\", r\" @ \", replaced)\n",
    "    replaced = sub(r\"\\\\\\\\\", r\" @ \", replaced)\n",
    "    replaced = sub(r\"[\\[\\]]\", r\"\", replaced)\n",
    "    replaced = sub(r\"left\", r\"\", replaced)\n",
    "    replaced = sub(r\".endmatrix.right\", r\" ))\", replaced)\n",
    "    replaced = sub(r\"\\\\\", r\"\", replaced)\n",
    "    print(replaced )"
   ]
  },
  {
   "cell_type": "code",
   "execution_count": 44,
   "metadata": {
    "collapsed": false,
    "deletable": true,
    "editable": true
   },
   "outputs": [
    {
     "data": {
      "text/latex": [
       "$$X=\\left[\\begin{matrix}x_{11} & x_{12}\\\\x_{21} & x_{22}\\end{matrix}\\right]$$"
      ],
      "text/plain": [
       "<IPython.core.display.Latex object>"
      ]
     },
     "metadata": {},
     "output_type": "display_data"
    },
    {
     "name": "stdout",
     "output_type": "stream",
     "text": [
      "(■( x_11 & x_12 @ x_21 & x_22 ))\n"
     ]
    }
   ],
   "source": [
    "X = crearMatrix(\"x\")\n",
    "B = crearMatrix(\"b\")\n",
    "\n",
    "D= crearMatrix(\"d\")\n",
    "C= crearMatrix(\"c\")\n",
    "\n",
    "psym_matrix(X, intro=\"X=\")\n",
    "matrix_to_word(X)\n",
    "#psym_matrix(B, intro=\"B=\")\n",
    "#psym_matrix(B, intro=\"D=\")\n",
    "#psym_matrix(C, intro=\"C=\")"
   ]
  },
  {
   "cell_type": "markdown",
   "metadata": {
    "deletable": true,
    "editable": true
   },
   "source": [
    "### $$ CXD=B $$"
   ]
  },
  {
   "cell_type": "code",
   "execution_count": 5,
   "metadata": {
    "collapsed": false,
    "deletable": true,
    "editable": true
   },
   "outputs": [
    {
     "data": {
      "text/latex": [
       "$$\\left[\\begin{matrix}c_{11} & c_{12}\\\\c_{21} & c_{22}\\end{matrix}\\right]\\left[\\begin{matrix}x_{11} & x_{12}\\\\x_{21} & x_{22}\\end{matrix}\\right]\\left[\\begin{matrix}d_{11} & d_{12}\\\\d_{21} & d_{22}\\end{matrix}\\right]=\\left[\\begin{matrix}b_{11} & b_{12}\\\\b_{21} & b_{22}\\end{matrix}\\right]$$"
      ],
      "text/plain": [
       "<IPython.core.display.Latex object>"
      ]
     },
     "metadata": {},
     "output_type": "display_data"
    }
   ],
   "source": [
    "psym_matrix(D, \n",
    "            intro=psym_matrix(C,row=1)+psym_matrix(X,row=1),\n",
    "            ending=\"=\"+ psym_matrix(B,row=1))"
   ]
  },
  {
   "cell_type": "code",
   "execution_count": 6,
   "metadata": {
    "collapsed": false,
    "deletable": true,
    "editable": true
   },
   "outputs": [
    {
     "data": {
      "text/latex": [
       "$$\\left[\\begin{matrix}d_{11} \\left(c_{11} x_{11} + c_{12} x_{21}\\right) + d_{21} \\left(c_{11} x_{12} + c_{12} x_{22}\\right) & d_{12} \\left(c_{11} x_{11} + c_{12} x_{21}\\right) + d_{22} \\left(c_{11} x_{12} + c_{12} x_{22}\\right)\\\\d_{11} \\left(c_{21} x_{11} + c_{22} x_{21}\\right) + d_{21} \\left(c_{21} x_{12} + c_{22} x_{22}\\right) & d_{12} \\left(c_{21} x_{11} + c_{22} x_{21}\\right) + d_{22} \\left(c_{21} x_{12} + c_{22} x_{22}\\right)\\end{matrix}\\right]=\\left[\\begin{matrix}b_{11} & b_{12}\\\\b_{21} & b_{22}\\end{matrix}\\right]$$"
      ],
      "text/plain": [
       "<IPython.core.display.Latex object>"
      ]
     },
     "metadata": {},
     "output_type": "display_data"
    }
   ],
   "source": [
    "psym_matrix(C*X*D, ending=\"=\"+ psym_matrix(B,row=1))"
   ]
  },
  {
   "cell_type": "code",
   "execution_count": 21,
   "metadata": {
    "collapsed": false,
    "deletable": true,
    "editable": true
   },
   "outputs": [
    {
     "data": {
      "text/latex": [
       "$$\\left[\\begin{matrix}d_{11} \\left(c_{11} x_{11} + c_{12} x_{21}\\right) + d_{21} \\left(c_{11} x_{12} + c_{12} x_{22}\\right)\\\\d_{12} \\left(c_{11} x_{11} + c_{12} x_{21}\\right) + d_{22} \\left(c_{11} x_{12} + c_{12} x_{22}\\right)\\\\d_{11} \\left(c_{21} x_{11} + c_{22} x_{21}\\right) + d_{21} \\left(c_{21} x_{12} + c_{22} x_{22}\\right)\\\\d_{12} \\left(c_{21} x_{11} + c_{22} x_{21}\\right) + d_{22} \\left(c_{21} x_{12} + c_{22} x_{22}\\right)\\end{matrix}\\right]=\\left[\\begin{matrix}b_{11}\\\\b_{12}\\\\b_{21}\\\\b_{22}\\end{matrix}\\right]$$"
      ],
      "text/plain": [
       "<IPython.core.display.Latex object>"
      ]
     },
     "metadata": {},
     "output_type": "display_data"
    }
   ],
   "source": [
    "psym_matrix((C*X*D).reshape(4, 1),\n",
    "            ending=\"=\"+ psym_matrix(B.reshape(4, 1),row=1))"
   ]
  },
  {
   "cell_type": "code",
   "execution_count": 40,
   "metadata": {
    "collapsed": false,
    "deletable": true,
    "editable": true
   },
   "outputs": [
    {
     "data": {
      "text/latex": [
       "$$\\left[\\begin{matrix}c_{11} d_{11} & c_{11} d_{21} & c_{12} d_{11} & c_{12} d_{21}\\\\c_{11} d_{12} & c_{11} d_{22} & c_{12} d_{12} & c_{12} d_{22}\\\\c_{21} d_{11} & c_{21} d_{21} & c_{22} d_{11} & c_{22} d_{21}\\\\c_{21} d_{12} & c_{21} d_{22} & c_{22} d_{12} & c_{22} d_{22}\\end{matrix}\\right]$$"
      ],
      "text/plain": [
       "<IPython.core.display.Latex object>"
      ]
     },
     "metadata": {},
     "output_type": "display_data"
    },
    {
     "name": "stdout",
     "output_type": "stream",
     "text": [
      "(■( c_11 d_11 & c_11 d_21 & c_12 d_11 & c_12 d_21 @ c_11 d_12 & c_11 d_22 & c_12 d_12 & c_12 d_22 @ c_21 d_11 & c_21 d_21 & c_22 d_11 & c_22 d_21 @ c_21 d_12 & c_21 d_22 & c_22 d_12 & c_22 d_22 ))\n"
     ]
    }
   ],
   "source": [
    "R = (Matrix([ # How???\n",
    "    [ C[0,0], 0     , C[1,0], 0     ,],\n",
    "    [ 0     , C[0,0], 0     , C[1,0],],\n",
    "    [ C[0,1], 0     , C[1,1], 0     ,],\n",
    "    [ 0     , C[0,1], 0     , C[1,1],]\n",
    "])).T\n",
    "T = Matrix([ # How???\n",
    "    [D[0,0],D[1,0],   0  , 0    ],\n",
    "    [D[0,1],D[1,1],   0  , 0    ],\n",
    "    [ 0    , 0    ,D[0,0],D[1,0]],\n",
    "    [ 0    , 0    ,D[0,1],D[1,1]]\n",
    "])\n",
    "#psym_matrix(T,row=1)\n",
    "psym_matrix(T*R)\n",
    "\n",
    "matrix_to_word(T*R)"
   ]
  },
  {
   "cell_type": "code",
   "execution_count": 9,
   "metadata": {
    "collapsed": false,
    "deletable": true,
    "editable": true
   },
   "outputs": [
    {
     "data": {
      "text/latex": [
       "$$\\left[\\begin{matrix}x_{11} & x_{12} & x_{21} & x_{22}\\end{matrix}\\right]$$"
      ],
      "text/plain": [
       "<IPython.core.display.Latex object>"
      ]
     },
     "metadata": {},
     "output_type": "display_data"
    },
    {
     "data": {
      "text/latex": [
       "$$\\left[\\begin{matrix}d_{11} \\left(c_{11} x_{11} + c_{12} x_{21}\\right) + d_{21} \\left(c_{11} x_{12} + c_{12} x_{22}\\right) & d_{12} \\left(c_{11} x_{11} + c_{12} x_{21}\\right) + d_{22} \\left(c_{11} x_{12} + c_{12} x_{22}\\right) & d_{11} \\left(c_{21} x_{11} + c_{22} x_{21}\\right) + d_{21} \\left(c_{21} x_{12} + c_{22} x_{22}\\right) & d_{12} \\left(c_{21} x_{11} + c_{22} x_{21}\\right) + d_{22} \\left(c_{21} x_{12} + c_{22} x_{22}\\right)\\end{matrix}\\right]$$"
      ],
      "text/plain": [
       "<IPython.core.display.Latex object>"
      ]
     },
     "metadata": {},
     "output_type": "display_data"
    }
   ],
   "source": [
    "psym_matrix(X.reshape(1, 4))\n",
    "psym_matrix(X.reshape(1, 4)*R*T)"
   ]
  },
  {
   "cell_type": "code",
   "execution_count": 10,
   "metadata": {
    "collapsed": false,
    "deletable": true,
    "editable": true
   },
   "outputs": [
    {
     "ename": "NameError",
     "evalue": "name 'F' is not defined",
     "output_type": "error",
     "traceback": [
      "\u001b[0;31m---------------------------------------------------------------------------\u001b[0m",
      "\u001b[0;31mNameError\u001b[0m                                 Traceback (most recent call last)",
      "\u001b[0;32m<ipython-input-10-45e4ed4abb09>\u001b[0m in \u001b[0;36m<module>\u001b[0;34m()\u001b[0m\n\u001b[0;32m----> 1\u001b[0;31m \u001b[0mpsym_matrix\u001b[0m\u001b[1;33m(\u001b[0m\u001b[0mF\u001b[0m\u001b[1;33m,\u001b[0m \u001b[0mintro\u001b[0m\u001b[1;33m=\u001b[0m\u001b[1;34mr'rg(F)='\u001b[0m\u001b[1;33m,\u001b[0m \u001b[0mending\u001b[0m\u001b[1;33m=\u001b[0m\u001b[1;34m\"\\Leftrightarrow\\exists F^{-1}\"\u001b[0m\u001b[1;33m)\u001b[0m \u001b[1;31m#ранг\u001b[0m\u001b[1;33m\u001b[0m\u001b[0m\n\u001b[0m",
      "\u001b[0;31mNameError\u001b[0m: name 'F' is not defined"
     ]
    }
   ],
   "source": [
    "psym_matrix(F, intro=r'rg(F)=', ending=\"\\Leftrightarrow\\exists F^{-1}\") #ранг"
   ]
  },
  {
   "cell_type": "markdown",
   "metadata": {
    "collapsed": true,
    "deletable": true,
    "editable": true
   },
   "source": [
    "$$\\sum_a^bAD$$"
   ]
  },
  {
   "cell_type": "code",
   "execution_count": 24,
   "metadata": {
    "collapsed": false,
    "deletable": true,
    "editable": true
   },
   "outputs": [
    {
     "data": {
      "text/latex": [
       "$$\\left[\\begin{matrix}3 & 1 & 0 & 0\\\\1 & 0 & 0 & 0\\\\6 & 2 & 3 & 1\\\\2 & 0 & 1 & 0\\end{matrix}\\right]$$"
      ],
      "text/plain": [
       "<IPython.core.display.Latex object>"
      ]
     },
     "metadata": {},
     "output_type": "display_data"
    }
   ],
   "source": [
    "R = Matrix([ # How???\n",
    "    [3,1,0,0],\n",
    "    [1,0,0,0],\n",
    "    [0,0,3,1],\n",
    "    [0,0,1,0]\n",
    "])\n",
    "T = Matrix([ # How???\n",
    "    [1,0,0,0],\n",
    "    [0,1,0,0],\n",
    "    [2,0,1,0],\n",
    "    [0,2,0,1]\n",
    "])\n",
    "#psym_matrix(T,row=1)\n",
    "psym_matrix(T*R)"
   ]
  },
  {
   "cell_type": "code",
   "execution_count": null,
   "metadata": {
    "collapsed": true,
    "deletable": true,
    "editable": true
   },
   "outputs": [],
   "source": []
  }
 ],
 "metadata": {
  "kernelspec": {
   "display_name": "Python 3",
   "language": "python",
   "name": "python3"
  },
  "language_info": {
   "codemirror_mode": {
    "name": "ipython",
    "version": 3
   },
   "file_extension": ".py",
   "mimetype": "text/x-python",
   "name": "python",
   "nbconvert_exporter": "python",
   "pygments_lexer": "ipython3",
   "version": "3.5.3"
  }
 },
 "nbformat": 4,
 "nbformat_minor": 2
}
