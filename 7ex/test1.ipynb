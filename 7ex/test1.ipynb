{
 "cells": [
  {
   "cell_type": "markdown",
   "metadata": {},
   "source": [
    "## Подготовка:"
   ]
  },
  {
   "cell_type": "code",
   "execution_count": 1,
   "metadata": {
    "collapsed": true
   },
   "outputs": [],
   "source": [
    "import numpy as np\n",
    "from numpy.linalg import *\n",
    "rg = matrix_rank\n",
    "from IPython.display import display, Math, Latex, Markdown\n",
    "\n",
    "from sympy import *\n",
    "from sympy import Matrix, solve_linear_system\n",
    "\n",
    "pr = lambda s: display(Markdown('$'+str(latex(s))+'$'))\n",
    "\n",
    "def pmatrix(a, intro='',ending='',row=False):\n",
    "    try:\n",
    "        if len(a.shape) > 2:\n",
    "            raise ValueError('pmatrix can at most display two dimensions')\n",
    "        lines = str(a).replace('[', '').replace(']', '').splitlines()\n",
    "        rv = [r'\\begin{pmatrix}']\n",
    "        rv += ['  ' + ' & '.join(l.split()) + r'\\\\' for l in lines]\n",
    "        rv +=  [r'\\end{pmatrix}']\n",
    "        if row:\n",
    "            return(intro+'\\n'.join(rv)+ending)\n",
    "        else:\n",
    "            display(Latex('$$'+intro+'\\n'.join(rv)+ending+'$$'))\n",
    "    except AttributeError:\n",
    "        display(Latex(\"$$\"+intro+str(a)+\"$$\"))"
   ]
  },
  {
   "cell_type": "code",
   "execution_count": 2,
   "metadata": {
    "collapsed": false
   },
   "outputs": [],
   "source": [
    "def crearMatrix(name,shape=(2,2)): #костыль\n",
    "    #A = np.fromfunction(lambda i,j: i*10+j+11, shape)#np.empty(shape) \n",
    "    return np.array([[Symbol(name+'_{11}'),Symbol(name+'_{12}')],[Symbol(name+'_{21}'),Symbol(name+'_{22}')]])\n"
   ]
  },
  {
   "cell_type": "code",
   "execution_count": 3,
   "metadata": {
    "collapsed": false
   },
   "outputs": [],
   "source": [
    "X = crearMatrix(\"x\")\n",
    "B = crearMatrix(\"b\")\n",
    "\n",
    "D1= crearMatrix(\"d1\")\n",
    "C1= crearMatrix(\"c1\")\n",
    "D2= crearMatrix(\"d2\")\n",
    "C2= crearMatrix(\"c2\")"
   ]
  },
  {
   "cell_type": "code",
   "execution_count": 4,
   "metadata": {
    "collapsed": false
   },
   "outputs": [
    {
     "data": {
      "text/latex": [
       "$$\\begin{pmatrix}\n",
       "  b_{11} & b_{12}\\\\\n",
       "  b_{21} & b_{22}\\\\\n",
       "\\end{pmatrix}$$"
      ],
      "text/plain": [
       "<IPython.core.display.Latex object>"
      ]
     },
     "metadata": {},
     "output_type": "display_data"
    }
   ],
   "source": [
    "pmatrix(B)"
   ]
  },
  {
   "cell_type": "code",
   "execution_count": 5,
   "metadata": {
    "collapsed": false
   },
   "outputs": [],
   "source": [
    "A = (C1.dot(X)).dot(D1) + (C2.dot(X)).dot(D2)"
   ]
  },
  {
   "cell_type": "code",
   "execution_count": 6,
   "metadata": {
    "collapsed": false
   },
   "outputs": [
    {
     "data": {
      "text/latex": [
       "$$a_{11}=d1_{11}*(c1_{11}*x_{11} + c1_{12}*x_{21}) + d1_{21}*(c1_{11}*x_{12} + c1_{12}*x_{22}) + d2_{11}*(c2_{11}*x_{11} + c2_{12}*x_{21}) + d2_{21}*(c2_{11}*x_{12} + c2_{12}*x_{22})$$"
      ],
      "text/plain": [
       "<IPython.core.display.Latex object>"
      ]
     },
     "metadata": {},
     "output_type": "display_data"
    },
    {
     "data": {
      "text/latex": [
       "$$a_{12}=d1_{12}*(c1_{11}*x_{11} + c1_{12}*x_{21}) + d1_{22}*(c1_{11}*x_{12} + c1_{12}*x_{22}) + d2_{12}*(c2_{11}*x_{11} + c2_{12}*x_{21}) + d2_{22}*(c2_{11}*x_{12} + c2_{12}*x_{22})$$"
      ],
      "text/plain": [
       "<IPython.core.display.Latex object>"
      ]
     },
     "metadata": {},
     "output_type": "display_data"
    },
    {
     "data": {
      "text/latex": [
       "$$a_{21}=d1_{11}*(c1_{21}*x_{11} + c1_{22}*x_{21}) + d1_{21}*(c1_{21}*x_{12} + c1_{22}*x_{22}) + d2_{11}*(c2_{21}*x_{11} + c2_{22}*x_{21}) + d2_{21}*(c2_{21}*x_{12} + c2_{22}*x_{22})$$"
      ],
      "text/plain": [
       "<IPython.core.display.Latex object>"
      ]
     },
     "metadata": {},
     "output_type": "display_data"
    },
    {
     "data": {
      "text/latex": [
       "$$a_{22}=d1_{12}*(c1_{21}*x_{11} + c1_{22}*x_{21}) + d1_{22}*(c1_{21}*x_{12} + c1_{22}*x_{22}) + d2_{12}*(c2_{21}*x_{11} + c2_{22}*x_{21}) + d2_{22}*(c2_{21}*x_{12} + c2_{22}*x_{22})$$"
      ],
      "text/plain": [
       "<IPython.core.display.Latex object>"
      ]
     },
     "metadata": {},
     "output_type": "display_data"
    }
   ],
   "source": [
    "pmatrix(A[0][0], intro=\"a_{11}=\")\n",
    "pmatrix(A[0][1], intro=\"a_{12}=\")\n",
    "pmatrix(A[1][0], intro=\"a_{21}=\")\n",
    "pmatrix(A[1][1], intro=\"a_{22}=\")"
   ]
  },
  {
   "cell_type": "code",
   "execution_count": 7,
   "metadata": {
    "collapsed": false
   },
   "outputs": [
    {
     "data": {
      "text/latex": [
       "$$X=\\begin{pmatrix}\n",
       "  x_{11}\\\\\n",
       "  x_{12}\\\\\n",
       "  x_{21}\\\\\n",
       "  x_{22}\\\\\n",
       "\\end{pmatrix}$$"
      ],
      "text/plain": [
       "<IPython.core.display.Latex object>"
      ]
     },
     "metadata": {},
     "output_type": "display_data"
    }
   ],
   "source": [
    "pmatrix(X.reshape((4, 1)), intro=\"X=\")"
   ]
  }
 ],
 "metadata": {
  "kernelspec": {
   "display_name": "Python 3",
   "language": "python",
   "name": "python3"
  },
  "language_info": {
   "codemirror_mode": {
    "name": "ipython",
    "version": 3
   },
   "file_extension": ".py",
   "mimetype": "text/x-python",
   "name": "python",
   "nbconvert_exporter": "python",
   "pygments_lexer": "ipython3",
   "version": "3.5.3"
  }
 },
 "nbformat": 4,
 "nbformat_minor": 2
}
